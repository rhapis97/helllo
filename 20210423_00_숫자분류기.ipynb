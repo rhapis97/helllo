{
 "cells": [
  {
   "cell_type": "code",
   "execution_count": 1,
   "metadata": {},
   "outputs": [],
   "source": [
    "# MNIST숫자 손글씨 Dataset 불러들이기\n",
    "# 텐소플로우의 표준 API인 tf.keras의 Sequential API를 이용 - 숫자 손글씨 인식기\n",
    "\n",
    "import tensorflow as tf\n",
    "from tensorflow import keras\n",
    "\n",
    "import numpy as np\n",
    "import matplotlib.pyplot as plt"
   ]
  },
  {
   "cell_type": "code",
   "execution_count": 2,
   "metadata": {},
   "outputs": [
    {
     "name": "stdout",
     "output_type": "stream",
     "text": [
      "2.4.1\n"
     ]
    }
   ],
   "source": [
    "print(tf.__version__)    # Tensorflow 버전 출력"
   ]
  },
  {
   "cell_type": "code",
   "execution_count": 3,
   "metadata": {},
   "outputs": [
    {
     "name": "stdout",
     "output_type": "stream",
     "text": [
      "60000\n"
     ]
    }
   ],
   "source": [
    "mnist = keras.datasets.mnist\n",
    "\n",
    "# MNIST 데이터를 로드. 다운로드하지 않았다면 다운로드까지 자동으로 진행\n",
    "(x_train, y_train), (x_test, y_test) = mnist.load_data()\n",
    "\n",
    "print(len(x_train))    # x_train 배열의 크기를 출력"
   ]
  },
  {
   "cell_type": "code",
   "execution_count": 4,
   "metadata": {},
   "outputs": [
    {
     "data": {
      "image/png": "[encoded data removed]",
      "text/plain": [
       "<Figure size 432x288 with 1 Axes>"
      ]
     },
     "metadata": {
      "needs_background": "light"
     },
     "output_type": "display_data"
    }
   ],
   "source": [
    "# MNIST 데이터셋의 X항목(x_train, x_test)은 이미지 데이터 담은 행렬(matrix)\n",
    "plt.imshow(x_train[1], cmap = plt.cm.binary)    # x_train[1]은 x_train행렬의 2번째 이미지\n",
    "plt.show()                                      # 1번째 이미지는 x_train[0]에 담김"
   ]
  },
  {
   "cell_type": "code",
   "execution_count": 5,
   "metadata": {},
   "outputs": [
    {
     "name": "stdout",
     "output_type": "stream",
     "text": [
      "0\n"
     ]
    }
   ],
   "source": [
    "print(y_train[1])    # X항목에는 숫자 0의 이미지 / Y항목에는 실제 숫자 값"
   ]
  },
  {
   "cell_type": "code",
   "execution_count": 6,
   "metadata": {},
   "outputs": [
    {
     "data": {
      "image/png": "[encoded data removed]",
      "text/plain": [
       "<Figure size 432x288 with 1 Axes>"
      ]
     },
     "metadata": {
      "needs_background": "light"
     },
     "output_type": "display_data"
    },
    {
     "name": "stdout",
     "output_type": "stream",
     "text": [
      "10001 번째 이미지의 숫자는 바로 3 입니다.\n"
     ]
    }
   ],
   "source": [
    "# index에 0에서 59999 사이 숫자를 지정해 보세요.\n",
    "index = 10000\n",
    "plt.imshow(x_train[index], cmap = plt.cm.binary)\n",
    "plt.show()\n",
    "print((index+1), '번째 이미지의 숫자는 바로', y_train[index], '입니다.')"
   ]
  },
  {
   "cell_type": "code",
   "execution_count": 7,
   "metadata": {},
   "outputs": [],
   "source": [
    "(x_train, y_train), (x_test, y_test) = mnist.load_data()\n",
    "# (x_train, y_train)은 학습용 데이터\n",
    "# (x_test, y_test)는 시험용 데이터\n",
    "\n",
    "# 숫자 손글씨 분류기는 학습용 데이터만을 가지고 학습시킴\n",
    "# 학습이 끝난 후에는 시험용 데이터로 성능 테스트"
   ]
  },
  {
   "cell_type": "code",
   "execution_count": 8,
   "metadata": {},
   "outputs": [
    {
     "name": "stdout",
     "output_type": "stream",
     "text": [
      "(60000, 28, 28)\n"
     ]
    }
   ],
   "source": [
    "# 불러들인 학습용 데이터 개수\n",
    "print(x_train.shape)        # 28X28크기의 숫자 이미지가 60000장 있음"
   ]
  },
  {
   "cell_type": "code",
   "execution_count": 9,
   "metadata": {},
   "outputs": [
    {
     "name": "stdout",
     "output_type": "stream",
     "text": [
      "(10000, 28, 28)\n"
     ]
    }
   ],
   "source": [
    "# 불러들인 시험용 데이터 개수\n",
    "print(x_test.shape)"
   ]
  },
  {
   "cell_type": "code",
   "execution_count": 10,
   "metadata": {},
   "outputs": [],
   "source": [
    "# 학습용 데이터, 검증용 데이터, 시험용 데이터\n",
    "# 검증용 데이터는 \n",
    "    # 머신러닝 학습 과정이 정상적으로 진행되는지, \n",
    "    # 오버피팅이 발생하고 있는지, \n",
    "    # 학습을 중단해도 되는지 등을 확인할 때 사용\n",
    "\n",
    "# 교차 검증(cross validation) 기법\n",
    "    # 고정된 train set, test set으로 평가하고 반복적으로 모델 튜닝하면 test set에 과적합\n",
    "    # 교차 검증은 데이터 모든 부분을 사용하여 모델 검증, test set을 하나로 고정하지 않음"
   ]
  },
  {
   "cell_type": "markdown",
   "metadata": {},
   "source": [
    "### 데이터 전처리 하기"
   ]
  },
  {
   "cell_type": "code",
   "execution_count": 11,
   "metadata": {},
   "outputs": [
    {
     "name": "stdout",
     "output_type": "stream",
     "text": [
      "최소값: 0 최대값: 255\n"
     ]
    }
   ],
   "source": [
    "# 손글씨 이미지 픽셀 값은 0~255 사이\n",
    "print('최소값:', np.min(x_train), '최대값:', np.max(x_train))"
   ]
  },
  {
   "cell_type": "code",
   "execution_count": 12,
   "metadata": {},
   "outputs": [
    {
     "name": "stdout",
     "output_type": "stream",
     "text": [
      "최소값: 0.0 최대값: 1.0\n"
     ]
    }
   ],
   "source": [
    "# 인공지능 모델 사용할 때, 일반적으로 입력은 0~1 사이 값으로 정규화\n",
    "# 255.0으로 나누기\n",
    "x_train_norm, x_test_norm = x_train/255.0, x_test/255.0\n",
    "print('최소값:', np.min(x_train_norm), '최대값:', np.max(x_train_norm))"
   ]
  },
  {
   "cell_type": "markdown",
   "metadata": {},
   "source": [
    "## 1-3 딥러닝 네트워크 설계"
   ]
  },
  {
   "cell_type": "code",
   "execution_count": 13,
   "metadata": {},
   "outputs": [
    {
     "name": "stdout",
     "output_type": "stream",
     "text": [
      "Model에 추가된 Layer 개수: 7\n"
     ]
    }
   ],
   "source": [
    "# 데이터 준비가 완료되면 딥러닝 네트워크 만들어야 함.\n",
    "# 텐서플로우 케라스에서 Sequential API 방법 사용\n",
    "\n",
    "# 다음 코드는 tf.keras의 Sequential API를 이용하여 LeNet이라는 딥러닝 네트워크 설계한 예\n",
    "model = keras.models.Sequential()\n",
    "model.add(keras.layers.Conv2D(16,(3,3), activation='relu', input_shape=(28,28,1)))\n",
    "model.add(keras.layers.MaxPool2D(2,2))\n",
    "model.add(keras.layers.Conv2D(32, (3,3), activation='relu'))\n",
    "model.add(keras.layers.MaxPooling2D((2,2)))\n",
    "model.add(keras.layers.Flatten())\n",
    "model.add(keras.layers.Dense(32, activation='relu'))\n",
    "model.add(keras.layers.Dense(10, activation='softmax'))\n",
    "print('Model에 추가된 Layer 개수:', len(model.layers))"
   ]
  },
  {
   "cell_type": "code",
   "execution_count": 14,
   "metadata": {},
   "outputs": [],
   "source": [
    "# Conb2D레이어의 첫 번째 인자 - 사용하는 이미지 특징의 수 - 16과 32 사용\n",
    "    # 가장 먼저 16개 이미지 특징, 그 뒤 32개의 이미지 특징을 고려한다.\n",
    "    # 복잡한 이미지의 경우 특징 숫자를 늘려주는 것을 고려\n",
    "    \n",
    "# Dense레이어의 첫 번째 인자 - 분류기에 사용되는 뉴런의 숫자\n",
    "    # 값이 클 수록 복잡한 분류기 만들 수 있음\n",
    "    # 10개의 숫자가 아닌 알파벳 구분하고 싶을 때에는 \n",
    "    # 대문자26 소문자26 총 52개의 클래스 분류\n",
    "    # 따라서 32보다 큰 64, 128 고려할 수 있음\n",
    "    \n",
    "    # 마지막 Dense레이어의 뉴런 숫자는 결과적으로 분류해야 하는 클래스 수로 지정\n",
    "    # 숫자 인식기에서는 10, 알파벳 인식기에서는 52\n",
    "    \n",
    "# 딥러닝 네트워크 모델 확인 -> model.summary()"
   ]
  },
  {
   "cell_type": "code",
   "execution_count": 15,
   "metadata": {},
   "outputs": [
    {
     "name": "stdout",
     "output_type": "stream",
     "text": [
      "Model: \"sequential\"\n",
      "_________________________________________________________________\n",
      "Layer (type)                 Output Shape              Param #   \n",
      "=================================================================\n",
      "conv2d (Conv2D)              (None, 26, 26, 16)        160       \n",
      "_________________________________________________________________\n",
      "max_pooling2d (MaxPooling2D) (None, 13, 13, 16)        0         \n",
      "_________________________________________________________________\n",
      "conv2d_1 (Conv2D)            (None, 11, 11, 32)        4640      \n",
      "_________________________________________________________________\n",
      "max_pooling2d_1 (MaxPooling2 (None, 5, 5, 32)          0         \n",
      "_________________________________________________________________\n",
      "flatten (Flatten)            (None, 800)               0         \n",
      "_________________________________________________________________\n",
      "dense (Dense)                (None, 32)                25632     \n",
      "_________________________________________________________________\n",
      "dense_1 (Dense)              (None, 10)                330       \n",
      "=================================================================\n",
      "Total params: 30,762\n",
      "Trainable params: 30,762\n",
      "Non-trainable params: 0\n",
      "_________________________________________________________________\n"
     ]
    }
   ],
   "source": [
    "# 딥러닝 네트워크 모델 확인\n",
    "model.summary()"
   ]
  },
  {
   "cell_type": "markdown",
   "metadata": {},
   "source": [
    "## 1-4 딥러닝 네트워크 학습시키기"
   ]
  },
  {
   "cell_type": "code",
   "execution_count": 16,
   "metadata": {},
   "outputs": [
    {
     "name": "stdout",
     "output_type": "stream",
     "text": [
      "Before Reshape - x_train_norm shape: (60000, 28, 28)\n",
      "Before Reshape - x_test_norm shape: (10000, 28, 28)\n",
      "After Reshape - x_train_reshaped shape: (60000, 28, 28, 1)\n",
      "After Reshape - x_test_reshaped shape: (10000, 28, 28, 1)\n"
     ]
    }
   ],
   "source": [
    "# 우리가 만든 네트워크의 입력은 \n",
    "# (데이터갯수, 이미지 크기 x, 이미지 크기 y, 채널수) 와 같은 형태\n",
    "# 그러나 print(x_train.shape)하면 (60000,28,28)로 채널수 정보 X\n",
    "# (60000,28,28,1)로 만들어 주어야 함\n",
    "\n",
    "# 채널수 1: 흑백 이미지\n",
    "# 컬러 이미지 -> R, G, B 세 값이 있음 -> 채널수 3\n",
    "\n",
    "print(\"Before Reshape - x_train_norm shape: {}\".format(x_train_norm.shape))\n",
    "print(\"Before Reshape - x_test_norm shape: {}\".format(x_test_norm.shape))\n",
    "\n",
    "x_train_reshaped = x_train_norm.reshape(-1, 28, 28, 1)\n",
    "x_test_reshaped = x_test_norm.reshape(-1, 28, 28, 1)\n",
    "# 데이터 개수에 -1 쓰면 reshape시 자동 계산\n",
    "\n",
    "print(\"After Reshape - x_train_reshaped shape: {}\".format(x_train_reshaped.shape))\n",
    "print(\"After Reshape - x_test_reshaped shape: {}\".format(x_test_reshaped.shape))"
   ]
  },
  {
   "cell_type": "code",
   "execution_count": 17,
   "metadata": {},
   "outputs": [
    {
     "name": "stdout",
     "output_type": "stream",
     "text": [
      "Epoch 1/10\n",
      "1875/1875 [==============================] - 18s 10ms/step - loss: 0.4532 - accuracy: 0.8632\n",
      "Epoch 2/10\n",
      "1875/1875 [==============================] - 18s 10ms/step - loss: 0.0677 - accuracy: 0.9786\n",
      "Epoch 3/10\n",
      "1875/1875 [==============================] - 18s 10ms/step - loss: 0.0461 - accuracy: 0.9852\n",
      "Epoch 4/10\n",
      "1875/1875 [==============================] - 18s 10ms/step - loss: 0.0354 - accuracy: 0.9890\n",
      "Epoch 5/10\n",
      "1875/1875 [==============================] - 18s 10ms/step - loss: 0.0269 - accuracy: 0.9918\n",
      "Epoch 6/10\n",
      "1875/1875 [==============================] - 18s 10ms/step - loss: 0.0231 - accuracy: 0.9932\n",
      "Epoch 7/10\n",
      "1875/1875 [==============================] - 18s 10ms/step - loss: 0.0176 - accuracy: 0.9944\n",
      "Epoch 8/10\n",
      "1875/1875 [==============================] - 18s 10ms/step - loss: 0.0141 - accuracy: 0.9956\n",
      "Epoch 9/10\n",
      "1875/1875 [==============================] - 18s 10ms/step - loss: 0.0137 - accuracy: 0.9954\n",
      "Epoch 10/10\n",
      "1875/1875 [==============================] - 18s 10ms/step - loss: 0.0094 - accuracy: 0.9970\n"
     ]
    },
    {
     "data": {
      "text/plain": [
       "<tensorflow.python.keras.callbacks.History at 0x2423d9c4dc0>"
      ]
     },
     "execution_count": 17,
     "metadata": {},
     "output_type": "execute_result"
    }
   ],
   "source": [
    "# x_train 학습 데이터로 딥러닝 네트워크 학습시키기\n",
    "# epochs = 10 -> 전체 60000개 데이터를 10번 반복 사용해서 학습시키기\n",
    "# 형태를 맞춘 x_train_reshaped 사용\n",
    "\n",
    "model.compile(optimizer='adam',\n",
    "             loss='sparse_categorical_crossentropy',\n",
    "             metrics=['accuracy'])\n",
    "model.fit(x_train_reshaped, y_train, epochs = 10)"
   ]
  },
  {
   "cell_type": "code",
   "execution_count": 18,
   "metadata": {},
   "outputs": [],
   "source": [
    "# epoch별로 인식 정확도(accuracy)가 0.8632에서 0.9970으로 올라감"
   ]
  },
  {
   "cell_type": "markdown",
   "metadata": {},
   "source": [
    "## 1-5 얼마나 잘 만들었는지 확인하기"
   ]
  },
  {
   "cell_type": "code",
   "execution_count": 19,
   "metadata": {},
   "outputs": [
    {
     "name": "stdout",
     "output_type": "stream",
     "text": [
      "313/313 - 1s - loss: 0.0390 - accuracy: 0.9876\n",
      "test_loss: 0.03898116573691368\n",
      "test_accuracy: 0.9876000285148621\n"
     ]
    }
   ],
   "source": [
    "# 위의 인식 정확도는 학습용 데이터(x-train)를 가지고 구한 것\n",
    "# 이제 시험용 데이터(x_test)로 성능 확인하기\n",
    "\n",
    "test_loss, test_accuracy = model.evaluate(x_test_reshaped, y_test, verbose=2)\n",
    "\n",
    "print(\"test_loss: {}\".format(test_loss))\n",
    "print(\"test_accuracy: {}\".format(test_accuracy))"
   ]
  },
  {
   "cell_type": "code",
   "execution_count": null,
   "metadata": {},
   "outputs": [],
   "source": [
    "# 학습용 데이터로 구한 인식 정확도인 0.9970보다 떨어진 0.9876으로 결과 도출"
   ]
  },
  {
   "cell_type": "code",
   "execution_count": 20,
   "metadata": {},
   "outputs": [
    {
     "name": "stdout",
     "output_type": "stream",
     "text": [
      "model.predict() 결과:  [3.0898278e-10 8.6623720e-12 4.2730602e-10 1.0674036e-08 5.8716659e-10\n",
      " 1.1066680e-13 3.1946441e-16 1.0000000e+00 1.0269167e-13 1.8037362e-09]\n",
      "model이 추론한 가장 가능성이 높은 결과:  7\n",
      "실제 데이터의 라벨:  7\n"
     ]
    }
   ],
   "source": [
    "# 잘못 추론한 데이터 확인하기\n",
    "# model.evaluate() 대신 model.predict() 사용 \n",
    "# -> model이 입력값을 보고 실제로 추론한 확률분포 출력\n",
    "# model => 10개 숫자 중 어떤 것일지에 대한 확률값을 출력하는 함수라고 할 수 있음\n",
    "\n",
    "predicted_result = model.predict(x_test_reshaped)   # model이 추론한 확률값\n",
    "predicted_labels = np.argmax(predicted_result, axis=1)\n",
    "\n",
    "idx = 0    # 1번째 x_test를 살피기\n",
    "print('model.predict() 결과: ', predicted_result[idx])\n",
    "print('model이 추론한 가장 가능성이 높은 결과: ', predicted_labels[idx])\n",
    "print('실제 데이터의 라벨: ', y_test[idx])"
   ]
  },
  {
   "cell_type": "code",
   "execution_count": 21,
   "metadata": {},
   "outputs": [
    {
     "data": {
      "image/png": "[encoded data removed]",
      "text/plain": [
       "<Figure size 432x288 with 1 Axes>"
      ]
     },
     "metadata": {
      "needs_background": "light"
     },
     "output_type": "display_data"
    }
   ],
   "source": [
    "plt.imshow(x_test[idx], cmap = plt.cm.binary)\n",
    "plt.show()"
   ]
  },
  {
   "cell_type": "code",
   "execution_count": 23,
   "metadata": {},
   "outputs": [
    {
     "name": "stdout",
     "output_type": "stream",
     "text": [
      "예측확률분포: [8.1211011e-09 2.0652926e-03 7.8983586e-03 4.2078318e-05 8.8370308e-07\n",
      " 1.2185492e-09 4.8715941e-11 9.8999047e-01 4.2803813e-07 2.4978522e-06]\n",
      "라벨: 2, 예측결과: 7\n"
     ]
    },
    {
     "data": {
      "image/png": "[encoded data removed]",
      "text/plain": [
       "<Figure size 432x288 with 1 Axes>"
      ]
     },
     "metadata": {
      "needs_background": "light"
     },
     "output_type": "display_data"
    },
    {
     "name": "stdout",
     "output_type": "stream",
     "text": [
      "예측확률분포: [3.0678117e-07 1.8175475e-14 2.9792789e-12 1.3116595e-05 1.8115131e-09\n",
      " 6.4834690e-01 6.3388278e-08 7.5640975e-13 3.5163957e-01 1.4170462e-08]\n",
      "라벨: 8, 예측결과: 5\n"
     ]
    },
    {
     "data": {
      "image/png": "[encoded data removed]",
      "text/plain": [
       "<Figure size 432x288 with 1 Axes>"
      ]
     },
     "metadata": {
      "needs_background": "light"
     },
     "output_type": "display_data"
    },
    {
     "name": "stdout",
     "output_type": "stream",
     "text": [
      "예측확률분포: [1.6223257e-05 3.5494423e-08 1.3615384e-07 2.3547038e-04 8.5869528e-02\n",
      " 1.1172658e-02 3.6802180e-06 7.8383609e-06 3.1448055e-06 9.0269125e-01]\n",
      "라벨: 4, 예측결과: 9\n"
     ]
    },
    {
     "data": {
      "image/png": "[encoded data removed]",
      "text/plain": [
       "<Figure size 432x288 with 1 Axes>"
      ]
     },
     "metadata": {
      "needs_background": "light"
     },
     "output_type": "display_data"
    },
    {
     "name": "stdout",
     "output_type": "stream",
     "text": [
      "예측확률분포: [7.3645890e-12 2.7843892e-09 9.8524709e-11 9.3490905e-01 1.0169591e-09\n",
      " 6.5089554e-02 4.8941058e-07 1.7280067e-12 9.3627216e-07 3.5172892e-08]\n",
      "라벨: 5, 예측결과: 3\n"
     ]
    },
    {
     "data": {
      "image/png": "[encoded data removed]",
      "text/plain": [
       "<Figure size 432x288 with 1 Axes>"
      ]
     },
     "metadata": {
      "needs_background": "light"
     },
     "output_type": "display_data"
    },
    {
     "name": "stdout",
     "output_type": "stream",
     "text": [
      "예측확률분포: [3.6301540e-08 3.8637907e-05 9.2363850e-09 1.3848754e-06 7.5427485e-01\n",
      " 1.6526072e-07 1.3274740e-09 1.6961498e-02 1.5641195e-01 7.2311439e-02]\n",
      "라벨: 9, 예측결과: 4\n"
     ]
    },
    {
     "data": {
      "image/png": "[encoded data removed]",
      "text/plain": [
       "<Figure size 432x288 with 1 Axes>"
      ]
     },
     "metadata": {
      "needs_background": "light"
     },
     "output_type": "display_data"
    }
   ],
   "source": [
    "# model이 추론해낸 숫자와 실제 라벨의 값이 다른 경우\n",
    "\n",
    "import random\n",
    "wrong_predict_list = []\n",
    "\n",
    "for i, _ in enumerate(predicted_labels):\n",
    "    # i번째 test_labels와 y_test가 다른 경우만 모으기\n",
    "    if predicted_labels[i] != y_test[i]:\n",
    "        wrong_predict_list.append(i)\n",
    "\n",
    "# wrong_predict_list 에서 랜덤하게 5개만 뽑기\n",
    "samples = random.choices(population=wrong_predict_list, k=5)\n",
    "for n in samples:\n",
    "    print(\"예측확률분포: \" + str(predicted_result[n]))\n",
    "    print(\"라벨: \" + str(y_test[n]) + \", 예측결과: \" + str(predicted_labels[n]))\n",
    "    plt.imshow(x_test[n], cmap=plt.cm.binary)\n",
    "    plt.show()"
   ]
  },
  {
   "cell_type": "markdown",
   "metadata": {},
   "source": [
    "## 1-6 더 좋은 네트워크 만들기"
   ]
  },
  {
   "cell_type": "code",
   "execution_count": 24,
   "metadata": {},
   "outputs": [
    {
     "name": "stdout",
     "output_type": "stream",
     "text": [
      "Model: \"sequential_1\"\n",
      "_________________________________________________________________\n",
      "Layer (type)                 Output Shape              Param #   \n",
      "=================================================================\n",
      "conv2d_2 (Conv2D)            (None, 26, 26, 16)        160       \n",
      "_________________________________________________________________\n",
      "max_pooling2d_2 (MaxPooling2 (None, 13, 13, 16)        0         \n",
      "_________________________________________________________________\n",
      "conv2d_3 (Conv2D)            (None, 11, 11, 32)        4640      \n",
      "_________________________________________________________________\n",
      "max_pooling2d_3 (MaxPooling2 (None, 5, 5, 32)          0         \n",
      "_________________________________________________________________\n",
      "flatten_1 (Flatten)          (None, 800)               0         \n",
      "_________________________________________________________________\n",
      "dense_2 (Dense)              (None, 32)                25632     \n",
      "_________________________________________________________________\n",
      "dense_3 (Dense)              (None, 10)                330       \n",
      "=================================================================\n",
      "Total params: 30,762\n",
      "Trainable params: 30,762\n",
      "Non-trainable params: 0\n",
      "_________________________________________________________________\n",
      "Epoch 1/10\n",
      "1875/1875 [==============================] - 19s 10ms/step - loss: 0.4226 - accuracy: 0.8714\n",
      "Epoch 2/10\n",
      "1875/1875 [==============================] - 18s 10ms/step - loss: 0.0645 - accuracy: 0.9803\n",
      "Epoch 3/10\n",
      "1875/1875 [==============================] - 18s 10ms/step - loss: 0.0462 - accuracy: 0.9859\n",
      "Epoch 4/10\n",
      "1875/1875 [==============================] - 17s 9ms/step - loss: 0.0345 - accuracy: 0.9896\n",
      "Epoch 5/10\n",
      "1875/1875 [==============================] - 17s 9ms/step - loss: 0.0276 - accuracy: 0.9915\n",
      "Epoch 6/10\n",
      "1875/1875 [==============================] - 14s 8ms/step - loss: 0.0237 - accuracy: 0.9927\n",
      "Epoch 7/10\n",
      "1875/1875 [==============================] - 14s 7ms/step - loss: 0.0161 - accuracy: 0.9945\n",
      "Epoch 8/10\n",
      "1875/1875 [==============================] - 14s 8ms/step - loss: 0.0157 - accuracy: 0.9948\n",
      "Epoch 9/10\n",
      "1875/1875 [==============================] - 14s 8ms/step - loss: 0.0120 - accuracy: 0.9963\n",
      "Epoch 10/10\n",
      "1875/1875 [==============================] - 14s 7ms/step - loss: 0.0113 - accuracy: 0.9964\n",
      "313/313 - 1s - loss: 0.0354 - accuracy: 0.9900\n",
      "test_loss: 0.035381343215703964\n",
      "test_accuracy: 0.9900000095367432\n"
     ]
    }
   ],
   "source": [
    "# 인식률을 다시 높일 수는 없을까?\n",
    "\n",
    "# 하이퍼파라미터를 바꾸어 보자\n",
    "\n",
    "# Conv2D에서 입력 이미지 특징 수를 늘리거나 줄이거나\n",
    "# Dense레이어에서 뉴런수를 바꾸어 보거나,\n",
    "# 학습 반복 횟수인 epoch값을 변경할 수 있다.\n",
    "\n",
    "# 바꿔 볼 수 있는 하이퍼파라미터들\n",
    "n_channel_1 = 16\n",
    "n_channel_2 = 32\n",
    "n_dense = 32\n",
    "n_train_epoch = 10\n",
    "\n",
    "model = keras.models.Sequential()\n",
    "\n",
    "model.add(keras.layers.Conv2D(n_channel_1, (3,3), activation='relu', input_shape=(28,28,1)))\n",
    "model.add(keras.layers.MaxPool2D(2,2))\n",
    "model.add(keras.layers.Conv2D(n_channel_2, (3,3), activation='relu'))\n",
    "model.add(keras.layers.MaxPooling2D((2,2)))\n",
    "model.add(keras.layers.Flatten())\n",
    "model.add(keras.layers.Dense(n_dense, activation='relu'))\n",
    "model.add(keras.layers.Dense(10, activation='softmax'))\n",
    "\n",
    "model.summary()\n",
    "\n",
    "model.compile(optimizer='adam',\n",
    "             loss='sparse_categorical_crossentropy',\n",
    "             metrics=['accuracy'])\n",
    "\n",
    "# 모델 훈련\n",
    "model.fit(x_train_reshaped, y_train, epochs = n_train_epoch)\n",
    "\n",
    "# 모델 시험\n",
    "test_loss, test_accuracy = model.evaluate(x_test_reshaped, y_test, verbose=2)\n",
    "print(\"test_loss: {}\".format(test_loss))\n",
    "print(\"test_accuracy: {}\".format(test_accuracy))"
   ]
  },
  {
   "cell_type": "code",
   "execution_count": 25,
   "metadata": {},
   "outputs": [],
   "source": [
    "# 이전 결과보다 정확도가 높아짐\n",
    "\n",
    "# 이전 결과\n",
    "# test_loss: 0.03898116573691368\n",
    "# test_accuracy: 0.9876000285148621\n",
    "\n",
    "# 이후 결과\n",
    "# test_loss: 0.035381343215703964\n",
    "# test_accuracy: 0.9900000095367432"
   ]
  },
  {
   "cell_type": "code",
   "execution_count": null,
   "metadata": {},
   "outputs": [],
   "source": []
  }
 ],
 "metadata": {
  "kernelspec": {
   "display_name": "Python 3",
   "language": "python",
   "name": "python3"
  },
  "language_info": {
   "codemirror_mode": {
    "name": "ipython",
    "version": 3
   },
   "file_extension": ".py",
   "mimetype": "text/x-python",
   "name": "python",
   "nbconvert_exporter": "python",
   "pygments_lexer": "ipython3",
   "version": "3.8.5"
  },
  "vp": {
   "base_numbering": 1,
   "nav_menu": {},
   "number_sections": true,
   "sideBar": true,
   "title_cell": "VisualPython",
   "title_sidebar": "VisualPython",
   "vpPosition": {
    "height": "calc(100% - 180px)",
    "right": "10px",
    "top": "110px",
    "width": "50%"
   },
   "vp_cell": false,
   "vp_section_display": true,
   "vp_window_display": false
  }
 },
 "nbformat": 4,
 "nbformat_minor": 4
}

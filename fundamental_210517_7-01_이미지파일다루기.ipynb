{
 "cells": [
  {
   "cell_type": "markdown",
   "metadata": {},
   "source": [
    "# 20-1 파이썬으로 이미지 파일 다루기\n",
    "색상 히스토그램을 기반으로 주어진 이미지들 중 비슷한 색상 분포를 가지고 있는 이미지를 찾아주는 기능을 구현"
   ]
  },
  {
   "cell_type": "code",
   "execution_count": 1,
   "metadata": {},
   "outputs": [],
   "source": [
    "# 필요한 라이브러리를 설치 순서대로 Pillow, OpenCV, Matplotlib\n",
    "\n",
    "# $ pip install pillow opencv-python matplotlib\n",
    "\n",
    "# 설치 디렉토리 구성 및 실습용 이미지 파일 다운로드\n",
    "# $ mkdir -p ~/aiffel/python_image_proc\n",
    "# $ wget https://aiffelstaticprd.blob.core.windows.net/media/documents/pillow_practice.png\n",
    "# $ mv pillow_practice.png ~/aiffel/python_image_proc\n",
    "\n",
    "# 실습용으로 사용될 CIFAR-100 이미지 데이터셋 다운로드\n",
    "# $ wget https://aiffelstaticprd.blob.core.windows.net/media/documents/cifar-100-python.tar.gz\n",
    "# $ mv cifar-100-python.tar.gz ~/aiffel/python_image_proc\n",
    "# $ cd ~/aiffel/python_image_proc && tar xvzf cifar-100-python.tar.gz"
   ]
  },
  {
   "cell_type": "markdown",
   "metadata": {},
   "source": [
    "## 10-2 디지털 이미지\n",
    "화소: 색상을 가지는 점 하나 / 화소는 RGB 세 개의 단일색의 강도를 각각 조절하여 색상 표현  \n",
    "  \n",
    "  \n",
    "이미지 저장 방법 중 가장 단순한 방법은 각 점 하나하나의 색상 값을 지정하는 방식  \n",
    "- 래스터(raster) 또는 비트맵(bitmap) 방식의 이미지\n",
    "- 보통 한 점마다 각 색상별로 8비트를 사용, 0 ~ 255 사이의 값($2^8 = 256$)으로 해당 색의 감도 표시\n",
    "  \n",
    "벡터(vector) 방식의 이미지는 상대적의 점과 선의 위치를 방정식으로써 기록, 확대 및 축소에 따라 재계산하여 깨짐이 없다.  \n",
    "  \n",
    "우리가 주로 다루는 파일 중 사진 파일은 래스터 방식, 글꼴은 벡터 방식  \n",
    "  \n",
    "RGB 방식 이외에도 YUV(기존 흑백 채널에 1/4의 해상도를 가진 두 색상 채널 덧붙여 송출), HSV(Hue 색상, Saturation 채도, Value 명도), 인쇄: CMYK(Cyan, Magenta, Yellow, Black)의 방법이 있다.  \n",
    "이처럼 색을 표현하는 다양한 방식을 컬러 스페이스(color space, 색 공간)라고 한다.  \n",
    "채널: 각 컬러 스페이스를 구성하는 단일 축(RGB에서 각각의 R, G, B)  \n",
    "  \n",
    "  \n",
    "JPEG 이미지 형식은 근처 화소를 묶어 비슷한 색들을 뭉뚱그리는 방식으로 이미지 압축(색상 정보 손실)\n",
    "PNG 이미지 형식의 경우 색상의 손실 없이 이미지를 압축\n",
    "GIF 형식의 이미지는 이미지 내에 여러 프레임을 두어 이를 움직이게 만들 수 있고, 색상 정보를 손실 없이 저장하지만, 256개의 색상만 기억할 수 있는 팔레트 방식으로 제한  "
   ]
  },
  {
   "cell_type": "code",
   "execution_count": 5,
   "metadata": {},
   "outputs": [],
   "source": [
    "## Pillow 사용법\n",
    "# PIL을 이용해 바로 이미지 하나를 직접 생성하기  \n",
    "# 이미지는 배열 형태의 데이터  \n",
    "# 만약 가로 세로 각 32픽셀에 RGB 세 가지 색상 채널 → Numpy로 [32, 32, 3] 차원의 배열을 생성  \n",
    "# 데이터 타입은 uint8\n",
    "# 각 값이 부호가 없는 8비트 정수가 되어 0~255(2^8 = 256) 사이의 값을 나타냄\n",
    "\n",
    "import numpy as np\n",
    "from PIL import Image\n",
    "\n",
    "data = np.zeros([32,32,3], dtype = np.uint8)    # 배열 만들기\n",
    "image = Image.fromarray(data, 'RGB')            # PIL.Image.fromarray() → 이미지 객체로 변환\n",
    "image.show()                                    # 화면에 표시\n",
    "\n",
    "# 32*32짜리 까만 이미지 화면이 뜬다."
   ]
  },
  {
   "cell_type": "code",
   "execution_count": 6,
   "metadata": {},
   "outputs": [],
   "source": [
    "#### 연습 문제\n",
    "# 1. 가로 세로 각 128 픽셀짜리 흰색 이미지 만들어 화면에 표시\n",
    "\n",
    "data = np.zeros([128,128,3], dtype=np.uint8)    # 배열 만들기\n",
    "data[:,:] = [255,255,255]\n",
    "image = Image.fromarray(data, 'RGB')\n",
    "image.show()"
   ]
  },
  {
   "cell_type": "code",
   "execution_count": 7,
   "metadata": {},
   "outputs": [
    {
     "name": "stdout",
     "output_type": "stream",
     "text": [
      "620\n",
      "465\n"
     ]
    }
   ],
   "source": [
    "# 2. 연습용 이미지를 열어 width와 height를 출력하고, .save()를 이용하여 jpg 파일 포맷으로 저장\n",
    "\n",
    "from PIL import Image\n",
    "#import os\n",
    "\n",
    "# 연습용 파일 경로\n",
    "#image_path = os.getenv('HOME')+'/aiffel/python_image_proc/pillow_practice.png'\n",
    "image_path = './aiffel/python_image_proc/pillow_practice.png'    # PNG 파일\n",
    "\n",
    "# 이미지 열기\n",
    "img = Image.open(image_path)\n",
    "img.show()\n",
    "\n",
    "# width와 height 출력\n",
    "print(img.width)\n",
    "print(img.height)\n",
    "\n",
    "# JPG 파일 형식으로 저장해보기\n",
    "#new_image_path = os.getenv('HOME')+'/aiffel/python_image_proc/pillow_practice.jpg'\n",
    "new_image_path = './aiffel/python_image_proc/pillow_practice.jpg'    # JPG 파일\n",
    "img = img.convert('RGB')\n",
    "img.save(new_image_path)    # new_image_path 경로에 jpg 이미지 저장하기"
   ]
  },
  {
   "cell_type": "code",
   "execution_count": 8,
   "metadata": {},
   "outputs": [],
   "source": [
    "# 3. resize()를 이용하여 이미지 크기를 100*200으로 변경하여 저장하기\n",
    "\n",
    "resized_image = img.resize((100,200))    # 이미지 크기 변경\n",
    "resized_image.show()\n",
    "\n",
    "# resized_image_path = os.getenv('HOME')+'/aiffel/python_image_proc/pillow_practice_resized.png'\n",
    "resized_image_path = './aiffel/python_image_proc/pillow_practice_resized.png'\n",
    "resized_image.save(resized_image_path)"
   ]
  },
  {
   "cell_type": "code",
   "execution_count": 9,
   "metadata": {},
   "outputs": [],
   "source": [
    "# 4. .crop()을 이용하여 눈 부분만 잘라내어 저장하기\n",
    "\n",
    "box = (300,100,600,400)\n",
    "region = img.crop(box)\n",
    "region.show()\n",
    "\n",
    "# cropped_image_path = os.getenv('HOME')+'/aiffel/python_image_proc/pillow_practice_cropped.png'\n",
    "cropped_image_path = './aiffel/python_image_proc/pillow_practice_cropped.png'\n",
    "region.save(cropped_image_path)"
   ]
  },
  {
   "cell_type": "code",
   "execution_count": 1,
   "metadata": {
    "scrolled": true
   },
   "outputs": [
    {
     "name": "stdout",
     "output_type": "stream",
     "text": [
      "./aiffel/python_image_proc/cifar-100-python/train\n",
      "<class 'dict'>\n"
     ]
    }
   ],
   "source": [
    "## Pillow를 활용한 데이터 전처리\n",
    "# CIFAR-100 데이터를 받아 개별 이미지 파일로 추출\n",
    "\n",
    "#import os\n",
    "import pickle\n",
    "\n",
    "#dir_path = os.getenv('HOME')+'/aiffel/python_image_proc/cifar-100-python'\n",
    "dir_path = './aiffel/python_image_proc/cifar-100-python'\n",
    "\n",
    "#train_file_path = os.path.join(dir_path, 'train')\n",
    "train_file_path = dir_path + '/train'\n",
    "print(train_file_path)\n",
    "with open(train_file_path, 'rb') as f:\n",
    "    train = pickle.load(f, encoding='bytes')\n",
    "    \n",
    "print(type(train))\n",
    "# print(train)"
   ]
  },
  {
   "cell_type": "code",
   "execution_count": 20,
   "metadata": {},
   "outputs": [
    {
     "data": {
      "text/plain": [
       "dict_keys([b'filenames', b'batch_label', b'fine_labels', b'coarse_labels', b'data'])"
      ]
     },
     "execution_count": 20,
     "metadata": {},
     "output_type": "execute_result"
    }
   ],
   "source": [
    "train.keys()\n",
    "\n",
    "# 각 키들이 문자열이 아닌 b로 시작하는 bytes로 되어있다."
   ]
  },
  {
   "cell_type": "code",
   "execution_count": 21,
   "metadata": {},
   "outputs": [
    {
     "data": {
      "text/plain": [
       "list"
      ]
     },
     "execution_count": 21,
     "metadata": {},
     "output_type": "execute_result"
    }
   ],
   "source": [
    "type(train[b'filenames'])\n",
    "\n",
    "# list 형태이다."
   ]
  },
  {
   "cell_type": "code",
   "execution_count": 22,
   "metadata": {},
   "outputs": [
    {
     "data": {
      "text/plain": [
       "[b'bos_taurus_s_000507.png',\n",
       " b'stegosaurus_s_000125.png',\n",
       " b'mcintosh_s_000643.png',\n",
       " b'altar_boy_s_001435.png',\n",
       " b'cichlid_s_000031.png']"
      ]
     },
     "execution_count": 22,
     "metadata": {},
     "output_type": "execute_result"
    }
   ],
   "source": [
    "train[b'filenames'][0:5]"
   ]
  },
  {
   "cell_type": "code",
   "execution_count": 23,
   "metadata": {},
   "outputs": [
    {
     "data": {
      "text/plain": [
       "array([[255, 255, 255, ...,  10,  59,  79],\n",
       "       [255, 253, 253, ..., 253, 253, 255],\n",
       "       [250, 248, 247, ..., 194, 207, 228],\n",
       "       [124, 131, 135, ..., 232, 236, 231],\n",
       "       [ 43,  32,  87, ...,  60,  29,  37]], dtype=uint8)"
      ]
     },
     "execution_count": 23,
     "metadata": {},
     "output_type": "execute_result"
    }
   ],
   "source": [
    "train[b'data'][0:5]\n",
    "\n",
    "# 파일 이름에 해당하는 이미지 위치(배열로 나왔다.)"
   ]
  },
  {
   "cell_type": "code",
   "execution_count": 24,
   "metadata": {},
   "outputs": [
    {
     "data": {
      "text/plain": [
       "(3072,)"
      ]
     },
     "execution_count": 24,
     "metadata": {},
     "output_type": "execute_result"
    }
   ],
   "source": [
    "train[b'data'][0].shape\n",
    "\n",
    "# 3072라는 숫자는 3채널 * 1024(32*32)를 의미 - 화소\n",
    "# R(1024 + G(1024) + B(1024)\n",
    "# numpy 배열을 잘 reshape하면 이미지 파일 원본이 복구된다."
   ]
  },
  {
   "cell_type": "code",
   "execution_count": 26,
   "metadata": {},
   "outputs": [],
   "source": [
    "# 모양만 맞추어 reshape하면 안되고, 1024를 32X32에 채우는 것을 3번 반복하는 방식\n",
    "\n",
    "image_data = train[b'data'][0].reshape([32, 32, 3], order='F') # order 주의\n",
    "# order='F' : 앞선 차원부터 데이터를 채우는 방식으로 reshape\n",
    "image = Image.fromarray(image_data)\n",
    "# Pillow를 사용하여 Numpy 배열을 Image객체로 만들어서\n",
    "image.show() # 화면에 띄우기\n",
    "\n",
    "# 이미지의 X축과 Y축이 뒤집어져 있다."
   ]
  },
  {
   "cell_type": "code",
   "execution_count": 31,
   "metadata": {},
   "outputs": [],
   "source": [
    "# 이미지 축 바꾸기\n",
    "\n",
    "image_data = image_data.swapaxes(0, 1)    # swapaxes(0,1) 축 바꾸기\n",
    "image = Image.fromarray(image_data)\n",
    "image.show()"
   ]
  },
  {
   "cell_type": "code",
   "execution_count": 29,
   "metadata": {},
   "outputs": [
    {
     "name": "stderr",
     "output_type": "stream",
     "text": [
      "100%|██████████████████████████████████████████████████████████████████████████| 50000/50000 [00:46<00:00, 1066.12it/s]\n"
     ]
    }
   ],
   "source": [
    "#import os\n",
    "import pickle\n",
    "from PIL import Image\n",
    "import numpy\n",
    "from tqdm import tqdm\n",
    "#dir_path = os.getenv('HOME')+'/aiffel/python_image_proc/cifar-100-python'\n",
    "dir_path = './aiffel/python_image_proc/cifar-100-python'\n",
    "train_file_path = os.path.join(dir_path, 'train')\n",
    "\n",
    "# image를 저장할 cifar-100-python의 하위 디렉토리(images)를 생성합니다.\n",
    "# images_dir_path = os.path.join(dir_path, 'images')\n",
    "images_dir_path = dir_path + '/images'\n",
    "\n",
    "#if not os.path.exists(images_dir_path):\n",
    "#    os.mkdir(images_dir_path) # images 디렉토리 생성\n",
    "\n",
    "# 32X32의 이미지 파일 50000개를 생성합니다.\n",
    "with open(train_file_path, 'rb') as f:\n",
    "    train = pickle.load(f, encoding='bytes')\n",
    "    \n",
    "    for i in tqdm(range(len(train[b'filenames']))):\n",
    "        filename = train[b'filenames'][i].decode()\n",
    "        data = train[b'data'][i].reshape([32, 32, 3], order='F')\n",
    "        image = Image.fromarray(data.swapaxes(0, 1))\n",
    "        image.save(os.path.join(images_dir_path, filename))\n",
    "        \n",
    "# 폴더를 확인했더니 50000개의 이미지가 담긴 모습을 볼 수 있다."
   ]
  },
  {
   "cell_type": "code",
   "execution_count": null,
   "metadata": {},
   "outputs": [],
   "source": []
  }
 ],
 "metadata": {
  "kernelspec": {
   "display_name": "Python 3",
   "language": "python",
   "name": "python3"
  },
  "language_info": {
   "codemirror_mode": {
    "name": "ipython",
    "version": 3
   },
   "file_extension": ".py",
   "mimetype": "text/x-python",
   "name": "python",
   "nbconvert_exporter": "python",
   "pygments_lexer": "ipython3",
   "version": "3.8.5"
  },
  "vp": {
   "base_numbering": 1,
   "nav_menu": {},
   "number_sections": true,
   "sideBar": true,
   "title_cell": "VisualPython",
   "title_sidebar": "VisualPython",
   "vpPosition": {
    "height": "calc(100% - 180px)",
    "right": "10px",
    "top": "110px",
    "width": "50%"
   },
   "vp_cell": false,
   "vp_section_display": true,
   "vp_window_display": false
  }
 },
 "nbformat": 4,
 "nbformat_minor": 4
}

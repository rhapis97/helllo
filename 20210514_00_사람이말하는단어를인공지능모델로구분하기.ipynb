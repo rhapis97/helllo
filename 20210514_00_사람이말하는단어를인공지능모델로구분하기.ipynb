{
  "nbformat": 4,
  "nbformat_minor": 0,
  "metadata": {
    "kernelspec": {
      "display_name": "Python 3",
      "language": "python",
      "name": "python3"
    },
    "language_info": {
      "codemirror_mode": {
        "name": "ipython",
        "version": 3
      },
      "file_extension": ".py",
      "mimetype": "text/x-python",
      "name": "python",
      "nbconvert_exporter": "python",
      "pygments_lexer": "ipython3",
      "version": "3.8.5"
    },
    "vp": {
      "base_numbering": 1,
      "nav_menu": {},
      "number_sections": true,
      "sideBar": true,
      "title_cell": "VisualPython",
      "title_sidebar": "VisualPython",
      "vpPosition": {
        "height": "calc(100% - 180px)",
        "right": "10px",
        "top": "110px",
        "width": "50%"
      },
      "vp_cell": false,
      "vp_section_display": true,
      "vp_window_display": false
    },
    "colab": {
      "name": "20210514_사람이말하는단어를인공지능모델로구분하기.ipynb의 사본",
      "provenance": [],
      "collapsed_sections": []
    },
    "accelerator": "GPU"
  },
  "cells": [
    {
      "cell_type": "code",
      "metadata": {
        "colab": {
          "base_uri": "https://localhost:8080/",
          "height": 0
        },
        "id": "k4mfWx5nEmTY",
        "outputId": "6f79e662-9dbf-414f-aaa0-149de072674e"
      },
      "source": [
        "from google.colab import drive\n",
        "drive.mount('/content/drive')"
      ],
      "execution_count": 4,
      "outputs": [
        {
          "output_type": "stream",
          "text": [
            "Drive already mounted at /content/drive; to attempt to forcibly remount, call drive.mount(\"/content/drive\", force_remount=True).\n"
          ],
          "name": "stdout"
        }
      ]
    },
    {
      "cell_type": "code",
      "metadata": {
        "id": "oKk_ZrW88u6x"
      },
      "source": [
        "# 음성(speech): 사람의 언어가 들어 있는 소리  \n",
        "# 오디오(audio): 사람 목소리 이외의 모든 소리를 통칭해서 일컬음. 생활소리, 동물울음소리, 클래식, 악기소리 등  \n",
        "  \n",
        "# 음성의 경우 일정한 주파수 영역에만 해당하기 때문에 일반적인 소리보다 처리하기가 수월  \n",
        "  \n",
        "# 소리: 진동으로 인한 공기의 압축  \n",
        "# 파동: 압축이 얼마나 됐는지를 말함  \n",
        "  \n",
        "# 소리에서 얻을 수 있는 물리량의 3요소  \n",
        "#     - 진폭(Amplitude)   : 소리의 세기(크기)가 달라짐  \n",
        "#     - 주파수(Frequency) : 소리의 높이 달라짐  \n",
        "#     - 위상(Phase)\n",
        "  \n",
        "  \n",
        "# - 물리적 음향\n",
        "#     - Intensity(강도)를 진폭의 세기로 정의\n",
        "#     - Frequency는 떨림의 빠르기로 정의\n",
        "#     - Tone-Color는 파동의 모양으로 정의\n",
        "# - 심리적 음향\n",
        "#     - Loudness: 소리의 크기를 말함\n",
        "#     - Pitch : 음정, 소리의 높낮이, 진동수를 의미\n",
        "#     - Timbre : 음색, 소리, 감각 등을 나타냄\n",
        "  \n",
        "  \n",
        "# 주파수(the number of compression): 1초 동안의 진동 횟수 (단위: Hz - 1Hz는 1초에 한 번 진동한다는 것을 의미)  \n",
        "# 주기(period): 파동이 한 번 진동하는데 걸리는 시간 또는 그 길이  \n",
        "  \n",
        "  \n",
        "# 복합파: 서로 다른 주파수를 가진 수많은 소리가 뒤섞여 만들어진다. 우리가 사용하는 대부분의 소리가 이에 해당. 서로 다른 정현파(sine wave)들의 합으로 이루어진 파형  \n"
      ],
      "execution_count": 5,
      "outputs": []
    },
    {
      "cell_type": "code",
      "metadata": {
        "scrolled": true,
        "id": "xtiP1HX78u62",
        "colab": {
          "base_uri": "https://localhost:8080/",
          "height": 265
        },
        "outputId": "ff9846f4-0840-43d8-937f-00ec866da276"
      },
      "source": [
        "## 아날로그 신호의 표본화(ampling)\n",
        "\n",
        "# 1사이클 동안 나타나는 연속 시간 연속 크기 아날로그 신호인 간단한 사인함수 그려보기\n",
        "# 표본화(Sampling): 시간축 방향에서 일정 간격으로 샘플을 추출하여 이산 신호(discrete signal)로 변환시키는 과정\n",
        "\n",
        "import numpy as np\n",
        "import matplotlib.pyplot as plt\n",
        "\n",
        "# sampling_rate: 초당 샘플링의 횟수(샘플링: 1초의 연속적인 신호를 몇 개의 숫자로 나누어 표현할 것인지)\n",
        "# 16kHz는 보통 Speech에서 많이 사용되는 주파수 영역대 / 44.1kHz는 Music에서 많이 사용하는 주파수영역대\n",
        "# 음성데이터를 사용할 것이므로 sampling_rate를 16000(16k)으로 지정\n",
        "# duration: 지속시간(초 단위)\n",
        "def single_tone(frequecy, sampling_rate=16000, duration=1):\n",
        "    t = np.linspace(0, duration, int(sampling_rate))\n",
        "    y = np.sin(2 * np.pi * frequecy * t)\n",
        "    return y\n",
        "\n",
        "y = single_tone(400)    # 주파수(Hz: 주기가 일정하게 반복되는 횟수)\n",
        "\n",
        "plt.plot(y[:41])\n",
        "plt.show()"
      ],
      "execution_count": 6,
      "outputs": [
        {
          "output_type": "display_data",
          "data": {
            "image/png": "[encoded data removed]",
            "text/plain": [
              "<Figure size 432x288 with 1 Axes>"
            ]
          },
          "metadata": {
            "tags": [],
            "needs_background": "light"
          }
        }
      ]
    },
    {
      "cell_type": "code",
      "metadata": {
        "id": "uOrIS6-a8u64",
        "colab": {
          "base_uri": "https://localhost:8080/",
          "height": 0
        },
        "outputId": "71996b82-5b71-4294-bc7c-c5dac7e93e02"
      },
      "source": [
        "y[3]"
      ],
      "execution_count": 7,
      "outputs": [
        {
          "output_type": "execute_result",
          "data": {
            "text/plain": [
              "0.4540167434911468"
            ]
          },
          "metadata": {
            "tags": []
          },
          "execution_count": 7
        }
      ]
    },
    {
      "cell_type": "code",
      "metadata": {
        "id": "w8lKoKVX8u65",
        "colab": {
          "base_uri": "https://localhost:8080/",
          "height": 320
        },
        "outputId": "d25f064a-7b99-48cc-930f-768966e2eb46"
      },
      "source": [
        "# 1사이클 동안 나타나는 이산시간 연속크기 신호 출력\n",
        "plt.stem(y[:41])\n",
        "plt.show()"
      ],
      "execution_count": 8,
      "outputs": [
        {
          "output_type": "stream",
          "text": [
            "/usr/local/lib/python3.7/dist-packages/ipykernel_launcher.py:2: UserWarning: In Matplotlib 3.3 individual lines on a stem plot will be added as a LineCollection instead of individual lines. This significantly improves the performance of a stem plot. To remove this warning and switch to the new behaviour, set the \"use_line_collection\" keyword argument to True.\n",
            "  \n"
          ],
          "name": "stderr"
        },
        {
          "output_type": "display_data",
          "data": {
            "image/png": "[encoded data removed]",
            "text/plain": [
              "<Figure size 432x288 with 1 Axes>"
            ]
          },
          "metadata": {
            "tags": [],
            "needs_background": "light"
          }
        }
      ]
    },
    {
      "cell_type": "code",
      "metadata": {
        "id": "06OjrJr78u66"
      },
      "source": [
        "# 연속적인 아날로그 신호를 컴퓨터 입력으로 넣게 되면  \n",
        "# 표본화(Sampling), 양자화(Quantizing), 부호화(Encoding)을 거쳐  \n",
        "# 이진 디지털 신호(Binary Digital Signal)로 변화시켜 인식  \n",
        "  \n",
        "# 아날로그 데이터에서 일정 간격으로 표본을 채취하는 방식으로 이산적 데이터를 구한다.  \n",
        "# 이산적 데이터 값이 소수점 아래로 무한히 정밀해질 수 없어서 일정 간격으로 값을 근사하여 구할 수밖에 없는데, 이 과정이 양자화  \n",
        "# 이 과정에서 원본 데이터와 차이가 발생. Sampling_rate가 클수록 기대 왜곡치가 작아져 원본에 가까운 형태로 변환 \n",
        "  \n",
        "# 부호화 통해 표본화와 양자화를 거친 원본 아날로그 수치가 최종적인 디지털 표현을 얻게 된다.(0, 1)"
      ],
      "execution_count": 9,
      "outputs": []
    },
    {
      "cell_type": "code",
      "metadata": {
        "id": "D_zIAmJ68u67"
      },
      "source": [
        "# 음성인식 모델을 위한 학습데이터 다운로드\n",
        "# 리눅스 가상환경에서 진행\n",
        "# $ mkdir -p ~/aiffel/speech_recognition/data\n",
        "# $ mkdir -p ~/aiffel/speech_recognition/models\n",
        "# $ wget https://aiffelstaticdev.blob.core.windows.net/dataset/speech_wav_8000.npz -P ~/aiffel/speech_recognition/data"
      ],
      "execution_count": 10,
      "outputs": []
    },
    {
      "cell_type": "code",
      "metadata": {
        "id": "7IzAjifW8u68"
      },
      "source": [
        "# waveform 형태의 데이터\n",
        "# - Audio 데이터는 이미지 데이터보다 낮은 차원의 데이터를 다룸\n",
        "# - 1개의 wav 파일은 1차원으로 이루어진 시계열 데이터\n",
        "# - 여러 소리 파형이 합쳐진 복합파\n",
        "\n",
        "# 간단한 단어 인식을 위한 훈련데이터셋\n",
        "# - 짧은 단어의 라벨이 달려 있어, 음성들을 텍스트로 구분하는 모델 혹은 간단한 명령어를 구별하는 모델로도 학습 가능\n",
        "\n",
        "# Bits per sample\n",
        "# - 샘플 하나마다 소리의 세기를 몇 비트로 저장했는지 나타냄\n",
        "# - 값이 커질수록 세기를 정확하게 저장할 수 있다.\n",
        "# - 4 bits / 8 bits unsigned int / 16 bits int / 24 bits / 32 bits float 등의 자료형으로 표현\n",
        "\n",
        "# Sampling frequency\n",
        "# - 샘플링 주파수: 소리로부터 초당 샘플링한 횟수 의미\n",
        "# - 원래 신호를 다시 복원할 수 있는 나이퀴스트(Nyquist) 샘플링 룰에 따라 복원해야 할 신호 주파수의 2배 이상으로 샘플링 해야 함\n",
        "# - 가청 주파수(20 ~ 24 kHz)를 복원하기 위해 사용. 음원에서는 44.1kHz를 많이 이용\n",
        "\n",
        "# Channel\n",
        "# - 각 채널별로 샘플링된 데이터 따로 저장\n",
        "# - 2채널(Stereo) 음원 재생시 왼쪽과 오른쪽 스피커에 다른 값 출력\n",
        "# - 1채널(Mono) 음원의 경우 왼쪽 데이터만 있고, 재생시에 오른쪽 스피커에도 같은 값이 출력"
      ],
      "execution_count": 11,
      "outputs": []
    },
    {
      "cell_type": "code",
      "metadata": {
        "id": "NTet-ilF8u69",
        "colab": {
          "base_uri": "https://localhost:8080/",
          "height": 0
        },
        "outputId": "3378a442-0fb4-4cd8-c155-648caf7b0d19"
      },
      "source": [
        "import numpy as np\n",
        "import os\n",
        "\n",
        "# 다운받은 데이터 파일을 data_path 변수에 불러온다.\n",
        "data_path = '/content/drive/MyDrive/aiffel/speech_recognition/data/speech_wav_8000.npz'\n",
        "speech_data = np.load(data_path)\n",
        "print(\"✅\")\n",
        "\n",
        "# 1000Hz 신호를 저장한 wav 파일\n",
        "# Sample rate는 48000Hz, 즉 1초 재생하는데 필요한 Sample의 수가 48000개\n",
        "# 모든 샘플은 -1 ~ 1 사이의 정해진 bits per sample의 값으로 표현됨"
      ],
      "execution_count": 12,
      "outputs": [
        {
          "output_type": "stream",
          "text": [
            "✅\n"
          ],
          "name": "stdout"
        }
      ]
    },
    {
      "cell_type": "code",
      "metadata": {
        "id": "XAbhAQaG8u7A",
        "colab": {
          "base_uri": "https://localhost:8080/",
          "height": 0
        },
        "outputId": "a78d5dc4-98c5-474c-a10a-ee68d42f2db1"
      },
      "source": [
        "## 데이터셋 살펴보기\n",
        "\n",
        "# npz파일로 이뤄진 데이터 - 각각 데이터는 wav_vals, label_vals로 저장되어 있음\n",
        "print(\"Wave data shape : \", speech_data[\"wav_vals\"].shape)\n",
        "print(\"Label data shape : \", speech_data[\"label_vals\"].shape)\n",
        "print(\"✅\")\n",
        "\n",
        "# Wave data shape :  (50620, 8000)\n",
        "# Label data shape :  (50620, 1)\n",
        "\n",
        "# 데이터셋은 1초 길이의 오디오 음성데이터 50620개로 이루어짐\n",
        "# 원래 Sample rate는 16000이지만 8000으로 re-sampling하여 사용\n",
        "# 모두 1초의 길이를 가지는 오디오 음성데이터여서 각각 8000개의 sample data를 가짐"
      ],
      "execution_count": 13,
      "outputs": [
        {
          "output_type": "stream",
          "text": [
            "Wave data shape :  (50620, 8000)\n",
            "Label data shape :  (50620, 1)\n",
            "✅\n"
          ],
          "name": "stdout"
        }
      ]
    },
    {
      "cell_type": "code",
      "metadata": {
        "id": "__ewEvXO8u7B",
        "colab": {
          "base_uri": "https://localhost:8080/",
          "height": 126
        },
        "outputId": "9e25e6b8-16c5-420d-e2af-a7f3862f4195"
      },
      "source": [
        "import IPython.display as ipd\n",
        "import random\n",
        "\n",
        "# 데이터 선택(랜덤하게 선택)\n",
        "rand = random.randint(0, len(speech_data[\"wav_vals\"]))\n",
        "print(\"rand num : \", rand)\n",
        "\n",
        "sr = 8000 # 1초동안 재생되는 샘플의 개수\n",
        "\n",
        "data = speech_data[\"wav_vals\"][rand]\n",
        "\n",
        "print(\"Wave data shape : \", data.shape)\n",
        "print(\"label : \", speech_data[\"label_vals\"][rand])\n",
        "\n",
        "ipd.Audio(data, rate=sr)\n"
      ],
      "execution_count": 14,
      "outputs": [
        {
          "output_type": "stream",
          "text": [
            "rand num :  31598\n",
            "Wave data shape :  (8000,)\n",
            "label :  ['off']\n"
          ],
          "name": "stdout"
        },
        {
          "output_type": "execute_result",
          "data": {
            "text/html": [
              "\n",
              "                <audio controls=\"controls\" >\n",
              "                    <source src=\"data:audio/wav;base64,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\" type=\"audio/wav\" />\n",
              "                    Your browser does not support the audio element.\n",
              "                </audio>\n",
              "              "
            ],
            "text/plain": [
              "<IPython.lib.display.Audio object>"
            ]
          },
          "metadata": {
            "tags": []
          },
          "execution_count": 14
        }
      ]
    },
    {
      "cell_type": "code",
      "metadata": {
        "id": "IBRgts0q8u7C",
        "colab": {
          "base_uri": "https://localhost:8080/",
          "height": 0
        },
        "outputId": "1f54d996-6eea-4ec6-dc4b-b3dc70b9eb6a"
      },
      "source": [
        "## train/test 데이터셋 구성하기\n",
        "\n",
        "# 현재 단어의 정답은 Text형태 - 학습 위해서 Text데이터를 학습가능한 형태로 만들어줘야 한다.\n",
        "\n",
        "# 구분해야 할 label 목록 / 이외의 데이터는 unknown, silence로 분류\n",
        "target_list = ['yes', 'no', 'up', 'down', 'left', 'right', 'on', 'off', 'stop', 'go']\n",
        "label_value = target_list\n",
        "label_value.append('unknown')\n",
        "label_value.append('silence')\n",
        "print('LABEL : ', label_value)\n",
        "\n",
        "new_label_value = dict()\n",
        "\n",
        "# enumerate(): 순서가 있는 자료형(리스트, 튜플, 문자열)을 입력으로 받아 인덱스 값을 포함하는 enumerate 객체를 돌려줌\n",
        "for i, l in enumerate(label_value):  # 인덱스와 자료형을 차례로 입력받음\n",
        "    new_label_value[l] = i           # Text로 이루어진 라벨 데이터를 학습에 사용하기 위해서 index 형태로 바꿔주는 작업\n",
        "\n",
        "label_value = new_label_value        # int로 이뤄진 index 작업을 통해서 Label data를 더 쉽게 사용\n",
        "\n",
        "print('Indexed LABEL : ', new_label_value)\n"
      ],
      "execution_count": 15,
      "outputs": [
        {
          "output_type": "stream",
          "text": [
            "LABEL :  ['yes', 'no', 'up', 'down', 'left', 'right', 'on', 'off', 'stop', 'go', 'unknown', 'silence']\n",
            "Indexed LABEL :  {'yes': 0, 'no': 1, 'up': 2, 'down': 3, 'left': 4, 'right': 5, 'on': 6, 'off': 7, 'stop': 8, 'go': 9, 'unknown': 10, 'silence': 11}\n"
          ],
          "name": "stdout"
        }
      ]
    },
    {
      "cell_type": "code",
      "metadata": {
        "id": "d2l5VigT8u7D",
        "colab": {
          "base_uri": "https://localhost:8080/",
          "height": 0
        },
        "outputId": "bc23f70d-cae7-4084-9fd9-2ff3081c362b"
      },
      "source": [
        "temp = []\n",
        "\n",
        "for v in speech_data[\"label_vals\"]:\n",
        "    temp.append(label_value[v[0]])\n",
        "    \n",
        "label_data = np.array(temp)\n",
        "print(label_data)\n"
      ],
      "execution_count": 16,
      "outputs": [
        {
          "output_type": "stream",
          "text": [
            "[ 3  3  3 ... 11 11 11]\n"
          ],
          "name": "stdout"
        }
      ]
    },
    {
      "cell_type": "code",
      "metadata": {
        "id": "D2-n-bs18u7E",
        "colab": {
          "base_uri": "https://localhost:8080/",
          "height": 0
        },
        "outputId": "60a13d0d-390f-400a-e958-1d37fa7e5aa6"
      },
      "source": [
        "## 학습을 위한 데이터 분리\n",
        "\n",
        "# train data와 test data 분리\n",
        "from sklearn.model_selection import train_test_split\n",
        "\n",
        "sr = 8000    # 1초동안 재생되는 샘플의 개수\n",
        "train_wav, test_wav, train_label, test_label = train_test_split(speech_data[\"wav_vals\"],\n",
        "                                                                label_data,\n",
        "                                                                test_size=0.1,    # 10% 만큼 테스트 데이터 할당\n",
        "                                                                shuffle=True)    # 무작위로 섞기\n",
        "print(train_wav)\n",
        "\n",
        "train_wav = train_wav.reshape([-1, sr, 1]) # add channel for CNN\n",
        "test_wav = test_wav.reshape([-1, sr, 1])\n",
        "print(\"✅\")"
      ],
      "execution_count": 17,
      "outputs": [
        {
          "output_type": "stream",
          "text": [
            "[[ 2.3893654e-02  3.8138472e-02  3.2652784e-02 ... -3.4015860e-02\n",
            "  -3.2277159e-02 -3.6093183e-02]\n",
            " [-3.7446758e-04 -2.7851015e-04 -1.4112276e-03 ... -2.9070193e-03\n",
            "  -3.2837752e-03 -8.6138323e-03]\n",
            " [-4.4176815e-04 -4.5875594e-04 -3.3623708e-04 ...  1.1590600e-03\n",
            "   5.2339269e-04  4.3863003e-04]\n",
            " ...\n",
            " [-1.0514621e-05 -6.5285852e-04 -1.1425446e-03 ...  2.6435518e-01\n",
            "   2.4870704e-01  2.4470119e-01]\n",
            " [ 6.9498463e-04  2.1602039e-03  1.9095092e-03 ... -3.0361325e-03\n",
            "  -2.9052154e-03 -3.1814424e-03]\n",
            " [ 6.4253720e-04  4.2773322e-03  7.7758790e-03 ...  2.0539777e-03\n",
            "  -4.9184263e-03  7.5885857e-04]]\n",
            "✅\n"
          ],
          "name": "stdout"
        }
      ]
    },
    {
      "cell_type": "code",
      "metadata": {
        "id": "httKrkhk8u7F",
        "colab": {
          "base_uri": "https://localhost:8080/",
          "height": 0
        },
        "outputId": "0bdd4615-399b-499c-d02f-f644b8a4a384"
      },
      "source": [
        "# 나눠진 데이터셋 확인\n",
        "print(\"train data : \", train_wav.shape)\n",
        "print(\"train labels : \", train_label.shape)\n",
        "print(\"test data : \", test_wav.shape)\n",
        "print(\"test labels : \", test_label.shape)\n",
        "print(\"✅\")\n"
      ],
      "execution_count": 18,
      "outputs": [
        {
          "output_type": "stream",
          "text": [
            "train data :  (45558, 8000, 1)\n",
            "train labels :  (45558,)\n",
            "test data :  (5062, 8000, 1)\n",
            "test labels :  (5062,)\n",
            "✅\n"
          ],
          "name": "stdout"
        }
      ]
    },
    {
      "cell_type": "code",
      "metadata": {
        "id": "LK56k7VZ8u7F",
        "colab": {
          "base_uri": "https://localhost:8080/",
          "height": 0
        },
        "outputId": "4d358ee3-7fcd-471c-c6c1-4a020e38dcbd"
      },
      "source": [
        "## 학습을 위한 하이퍼파라미터 설정\n",
        "\n",
        "batch_size = 32\n",
        "max_epochs = 10\n",
        "\n",
        "# the save point\n",
        "checkpoint_dir = '/content/drive/MyDrive'+'/aiffel/speech_recognition/models/wav'\n",
        "\n",
        "print(checkpoint_dir)\n"
      ],
      "execution_count": 19,
      "outputs": [
        {
          "output_type": "stream",
          "text": [
            "/content/drive/MyDrive/aiffel/speech_recognition/models/wav\n"
          ],
          "name": "stdout"
        }
      ]
    },
    {
      "cell_type": "code",
      "metadata": {
        "id": "IuPwV6QN8u7G",
        "colab": {
          "base_uri": "https://localhost:8080/",
          "height": 0
        },
        "outputId": "65c4d89b-2e78-4a16-f1a5-21dff8dfb39e"
      },
      "source": [
        "## Data setting\n",
        "\n",
        "# tf.data.Dataset을 이용하여 데이터셋 구성하기\n",
        "# 해당 패키지는 전처리, 배치처리 등을 쉽게 할 수 있게 한다.\n",
        "\n",
        "def one_hot_label(wav, label):\n",
        "    label = tf.one_hot(label, depth=12)\n",
        "    return wav, label\n",
        "print(\"✅\")"
      ],
      "execution_count": 20,
      "outputs": [
        {
          "output_type": "stream",
          "text": [
            "✅\n"
          ],
          "name": "stdout"
        }
      ]
    },
    {
      "cell_type": "code",
      "metadata": {
        "id": "ZA6u-ujU8u7H",
        "colab": {
          "base_uri": "https://localhost:8080/",
          "height": 0
        },
        "outputId": "f82d6976-8586-4af7-a888-7383be0563f4"
      },
      "source": [
        "import tensorflow as tf\n",
        "\n",
        "# tf.data.Dataset.from_tensor_slices() 함수에 return 받기 원하는 데이터를 \n",
        "# 튜플(data, label) 형태로 넣어서 사용할 수 있다.\n",
        "\n",
        "# map() 함수: dataset이 데이터를 불러올 때마다 동작시킬 데이터 전처리 함수를 매핑하는 역할\n",
        "# map 함수는 중첩해서 사용 가능\n",
        "\n",
        "# batch: dataset에서 제공하는 튜플 형태의 데이터를 얼마나 가져올지 결정\n",
        "\n",
        "# for train\n",
        "train_dataset = tf.data.Dataset.from_tensor_slices((train_wav, train_label))\n",
        "train_dataset = train_dataset.map(one_hot_label)\n",
        "train_dataset = train_dataset.repeat().batch(batch_size=batch_size)\n",
        "print(train_dataset)\n",
        "# for test\n",
        "test_dataset = tf.data.Dataset.from_tensor_slices((test_wav, test_label))\n",
        "test_dataset = test_dataset.map(one_hot_label)\n",
        "test_dataset = test_dataset.batch(batch_size=batch_size)\n",
        "print(test_dataset)\n",
        "print(\"✅\")"
      ],
      "execution_count": 21,
      "outputs": [
        {
          "output_type": "stream",
          "text": [
            "<BatchDataset shapes: ((None, 8000, 1), (None, 12)), types: (tf.float32, tf.float32)>\n",
            "<BatchDataset shapes: ((None, 8000, 1), (None, 12)), types: (tf.float32, tf.float32)>\n",
            "✅\n"
          ],
          "name": "stdout"
        }
      ]
    },
    {
      "cell_type": "code",
      "metadata": {
        "id": "O5rv6gG-8u7I",
        "colab": {
          "base_uri": "https://localhost:8080/",
          "height": 0
        },
        "outputId": "ef2d5c17-a0f7-40da-d2da-28fae63bccbd"
      },
      "source": [
        "## Wave classification 모델 구현\n",
        "# Audio 데이터는 1차원 데이터 - Conv1D layer를 이용하여 모델 구성\n",
        "\n",
        "from tensorflow.keras import layers\n",
        "\n",
        "input_tensor = layers.Input(shape=(sr, 1))\n",
        "\n",
        "x = layers.Conv1D(32, 9, padding='same', activation='relu')(input_tensor)\n",
        "x = layers.Conv1D(32, 9, padding='same', activation='relu')(x)\n",
        "x = layers.MaxPool1D()(x)\n",
        "\n",
        "x = layers.Conv1D(64, 9, padding='same', activation='relu')(x)\n",
        "x = layers.Conv1D(64, 9, padding='same', activation='relu')(x)\n",
        "x = layers.MaxPool1D()(x)\n",
        "\n",
        "x = layers.Conv1D(128, 9, padding='same', activation='relu')(x)\n",
        "x = layers.Conv1D(128, 9, padding='same', activation='relu')(x)\n",
        "x = layers.Conv1D(128, 9, padding='same', activation='relu')(x)\n",
        "x = layers.MaxPool1D()(x)\n",
        "\n",
        "x = layers.Conv1D(256, 9, padding='same', activation='relu')(x)\n",
        "x = layers.Conv1D(256, 9, padding='same', activation='relu')(x)\n",
        "x = layers.Conv1D(256, 9, padding='same', activation='relu')(x)\n",
        "x = layers.MaxPool1D()(x)\n",
        "x = layers.Dropout(0.3)(x)\n",
        "\n",
        "x = layers.Flatten()(x)\n",
        "x = layers.Dense(256)(x)\n",
        "x = layers.BatchNormalization()(x)\n",
        "x = layers.Activation('relu')(x)\n",
        "\n",
        "output_tensor = layers.Dense(12)(x)\n",
        "\n",
        "model_wav = tf.keras.Model(input_tensor, output_tensor)\n",
        "\n",
        "model_wav.summary()"
      ],
      "execution_count": 22,
      "outputs": [
        {
          "output_type": "stream",
          "text": [
            "Model: \"model\"\n",
            "_________________________________________________________________\n",
            "Layer (type)                 Output Shape              Param #   \n",
            "=================================================================\n",
            "input_1 (InputLayer)         [(None, 8000, 1)]         0         \n",
            "_________________________________________________________________\n",
            "conv1d (Conv1D)              (None, 8000, 32)          320       \n",
            "_________________________________________________________________\n",
            "conv1d_1 (Conv1D)            (None, 8000, 32)          9248      \n",
            "_________________________________________________________________\n",
            "max_pooling1d (MaxPooling1D) (None, 4000, 32)          0         \n",
            "_________________________________________________________________\n",
            "conv1d_2 (Conv1D)            (None, 4000, 64)          18496     \n",
            "_________________________________________________________________\n",
            "conv1d_3 (Conv1D)            (None, 4000, 64)          36928     \n",
            "_________________________________________________________________\n",
            "max_pooling1d_1 (MaxPooling1 (None, 2000, 64)          0         \n",
            "_________________________________________________________________\n",
            "conv1d_4 (Conv1D)            (None, 2000, 128)         73856     \n",
            "_________________________________________________________________\n",
            "conv1d_5 (Conv1D)            (None, 2000, 128)         147584    \n",
            "_________________________________________________________________\n",
            "conv1d_6 (Conv1D)            (None, 2000, 128)         147584    \n",
            "_________________________________________________________________\n",
            "max_pooling1d_2 (MaxPooling1 (None, 1000, 128)         0         \n",
            "_________________________________________________________________\n",
            "conv1d_7 (Conv1D)            (None, 1000, 256)         295168    \n",
            "_________________________________________________________________\n",
            "conv1d_8 (Conv1D)            (None, 1000, 256)         590080    \n",
            "_________________________________________________________________\n",
            "conv1d_9 (Conv1D)            (None, 1000, 256)         590080    \n",
            "_________________________________________________________________\n",
            "max_pooling1d_3 (MaxPooling1 (None, 500, 256)          0         \n",
            "_________________________________________________________________\n",
            "dropout (Dropout)            (None, 500, 256)          0         \n",
            "_________________________________________________________________\n",
            "flatten (Flatten)            (None, 128000)            0         \n",
            "_________________________________________________________________\n",
            "dense (Dense)                (None, 256)               32768256  \n",
            "_________________________________________________________________\n",
            "batch_normalization (BatchNo (None, 256)               1024      \n",
            "_________________________________________________________________\n",
            "activation (Activation)      (None, 256)               0         \n",
            "_________________________________________________________________\n",
            "dense_1 (Dense)              (None, 12)                3084      \n",
            "=================================================================\n",
            "Total params: 34,681,708\n",
            "Trainable params: 34,681,196\n",
            "Non-trainable params: 512\n",
            "_________________________________________________________________\n"
          ],
          "name": "stdout"
        }
      ]
    },
    {
      "cell_type": "code",
      "metadata": {
        "id": "GmdCP8Fp8u7J",
        "colab": {
          "base_uri": "https://localhost:8080/",
          "height": 0
        },
        "outputId": "fd9f24c7-1be1-4b30-d32b-d08482e8fc27"
      },
      "source": [
        "## Loss\n",
        "\n",
        "# 라벨이 될 수 있는 12개의 단어 클래스 - 구분하기 위해 multi-class classification 필요\n",
        "# Categrorical Cross-Entropy loss 사용\n",
        "\n",
        "optimizer=tf.keras.optimizers.Adam(1e-4)    # 최적화 함수\n",
        "model_wav.compile(loss=tf.keras.losses.CategoricalCrossentropy(from_logits=True),    # 손실함수\n",
        "                  optimizer=optimizer,\n",
        "                  metrics=['accuracy'])\n",
        "print(\"✅\")"
      ],
      "execution_count": 23,
      "outputs": [
        {
          "output_type": "stream",
          "text": [
            "✅\n"
          ],
          "name": "stdout"
        }
      ]
    },
    {
      "cell_type": "code",
      "metadata": {
        "id": "JXwg1t4x8u7J",
        "colab": {
          "base_uri": "https://localhost:8080/",
          "height": 0
        },
        "outputId": "47d22d30-15d0-4b56-84a7-edd84e57dd52"
      },
      "source": [
        "# callback 함수를 이용해서 학습 중간 중간 원하는 동작을 하도록 설정\n",
        "# 모델 재사용 위해 모델 가중치 저장하는 callback 함수 추가\n",
        "cp_callback = tf.keras.callbacks.ModelCheckpoint(checkpoint_dir,\n",
        "                                                 save_weights_only=True,    # 가중치 저장\n",
        "                                                 monitor='val_loss',        # validation loss 모니터\n",
        "                                                 mode='auto',\n",
        "                                                 save_best_only=True,       # loss 개선될 때 저장\n",
        "                                                 verbose=1)\n",
        "print(\"✅\")"
      ],
      "execution_count": 24,
      "outputs": [
        {
          "output_type": "stream",
          "text": [
            "✅\n"
          ],
          "name": "stdout"
        }
      ]
    },
    {
      "cell_type": "code",
      "metadata": {
        "id": "zd3bHnPp8u7K",
        "colab": {
          "base_uri": "https://localhost:8080/",
          "height": 0
        },
        "outputId": "95de07d9-55e0-43ee-a460-d94f0bbc6fc6"
      },
      "source": [
        "#30분 내외 소요(메모리 사용량 주의)\n",
        "history_wav = model_wav.fit(train_dataset, epochs=max_epochs,\n",
        "                            steps_per_epoch=len(train_wav) // batch_size,\n",
        "                            validation_data=test_dataset,\n",
        "                            validation_steps=len(test_wav) // batch_size,\n",
        "                            callbacks=[cp_callback]\n",
        "                           )\n",
        "print(\"✅\")"
      ],
      "execution_count": 25,
      "outputs": [
        {
          "output_type": "stream",
          "text": [
            "Epoch 1/10\n",
            "1423/1423 [==============================] - 239s 144ms/step - loss: 1.8220 - accuracy: 0.3731 - val_loss: 0.9566 - val_accuracy: 0.6930\n",
            "\n",
            "Epoch 00001: val_loss improved from inf to 0.95657, saving model to /content/drive/MyDrive/aiffel/speech_recognition/models/wav\n",
            "Epoch 2/10\n",
            "1423/1423 [==============================] - 208s 146ms/step - loss: 0.8800 - accuracy: 0.7259 - val_loss: 0.6567 - val_accuracy: 0.7909\n",
            "\n",
            "Epoch 00002: val_loss improved from 0.95657 to 0.65667, saving model to /content/drive/MyDrive/aiffel/speech_recognition/models/wav\n",
            "Epoch 3/10\n",
            "1423/1423 [==============================] - 209s 147ms/step - loss: 0.6162 - accuracy: 0.8132 - val_loss: 0.5115 - val_accuracy: 0.8345\n",
            "\n",
            "Epoch 00003: val_loss improved from 0.65667 to 0.51153, saving model to /content/drive/MyDrive/aiffel/speech_recognition/models/wav\n",
            "Epoch 4/10\n",
            "1423/1423 [==============================] - 209s 147ms/step - loss: 0.4410 - accuracy: 0.8704 - val_loss: 0.3955 - val_accuracy: 0.8718\n",
            "\n",
            "Epoch 00004: val_loss improved from 0.51153 to 0.39552, saving model to /content/drive/MyDrive/aiffel/speech_recognition/models/wav\n",
            "Epoch 5/10\n",
            "1423/1423 [==============================] - 209s 147ms/step - loss: 0.3117 - accuracy: 0.9141 - val_loss: 0.3848 - val_accuracy: 0.8786\n",
            "\n",
            "Epoch 00005: val_loss improved from 0.39552 to 0.38477, saving model to /content/drive/MyDrive/aiffel/speech_recognition/models/wav\n",
            "Epoch 6/10\n",
            "1423/1423 [==============================] - 208s 146ms/step - loss: 0.2190 - accuracy: 0.9436 - val_loss: 0.4140 - val_accuracy: 0.8712\n",
            "\n",
            "Epoch 00006: val_loss did not improve from 0.38477\n",
            "Epoch 7/10\n",
            "1423/1423 [==============================] - 208s 147ms/step - loss: 0.1613 - accuracy: 0.9596 - val_loss: 0.3992 - val_accuracy: 0.8794\n",
            "\n",
            "Epoch 00007: val_loss did not improve from 0.38477\n",
            "Epoch 8/10\n",
            "1423/1423 [==============================] - 208s 146ms/step - loss: 0.1179 - accuracy: 0.9717 - val_loss: 0.2741 - val_accuracy: 0.9179\n",
            "\n",
            "Epoch 00008: val_loss improved from 0.38477 to 0.27414, saving model to /content/drive/MyDrive/aiffel/speech_recognition/models/wav\n",
            "Epoch 9/10\n",
            "1423/1423 [==============================] - 208s 146ms/step - loss: 0.0943 - accuracy: 0.9789 - val_loss: 0.2925 - val_accuracy: 0.9134\n",
            "\n",
            "Epoch 00009: val_loss did not improve from 0.27414\n",
            "Epoch 10/10\n",
            "1423/1423 [==============================] - 208s 146ms/step - loss: 0.0767 - accuracy: 0.9816 - val_loss: 0.2791 - val_accuracy: 0.9132\n",
            "\n",
            "Epoch 00010: val_loss did not improve from 0.27414\n",
            "✅\n"
          ],
          "name": "stdout"
        }
      ]
    },
    {
      "cell_type": "code",
      "metadata": {
        "id": "sH54xIVO8u7L",
        "colab": {
          "base_uri": "https://localhost:8080/",
          "height": 517
        },
        "outputId": "89183e80-837f-4b0d-eff3-8ffa903c1f83"
      },
      "source": [
        "## 학습 결과 Plot\n",
        "\n",
        "import matplotlib.pyplot as plt\n",
        "\n",
        "acc = history_wav.history['accuracy']\n",
        "val_acc = history_wav.history['val_accuracy']\n",
        "\n",
        "loss=history_wav.history['loss']\n",
        "val_loss=history_wav.history['val_loss']\n",
        "\n",
        "epochs_range = range(len(acc))\n",
        "\n",
        "plt.figure(figsize=(8, 8))\n",
        "plt.subplot(1, 2, 1)\n",
        "plt.plot(epochs_range, acc, label='Training Accuracy')\n",
        "plt.plot(epochs_range, val_acc, label='Validation Accuracy')\n",
        "plt.legend(loc='lower right')\n",
        "plt.title('Training and Validation Accuracy')\n",
        "\n",
        "plt.subplot(1, 2, 2)\n",
        "plt.plot(epochs_range, loss, label='Training Loss')\n",
        "plt.plot(epochs_range, val_loss, label='Validation Loss')\n",
        "plt.legend(loc='upper right')\n",
        "plt.title('Training and Validation Loss')\n",
        "plt.show()\n",
        "print(\"✅\")"
      ],
      "execution_count": 26,
      "outputs": [
        {
          "output_type": "display_data",
          "data": {
            "image/png": "[encoded data removed]",
            "text/plain": [
              "<Figure size 576x576 with 2 Axes>"
            ]
          },
          "metadata": {
            "tags": [],
            "needs_background": "light"
          }
        },
        {
          "output_type": "stream",
          "text": [
            "✅\n"
          ],
          "name": "stdout"
        }
      ]
    },
    {
      "cell_type": "code",
      "metadata": {
        "id": "jhIV9KeE8u7M",
        "colab": {
          "base_uri": "https://localhost:8080/",
          "height": 0
        },
        "outputId": "20154d7d-e342-4ded-e04d-5504da370cfa"
      },
      "source": [
        "## 평가하기\n",
        "# test dataset을 애용하여 모델의 성능을 평가\n",
        "\n",
        "# checkpoint callback 함수가 저장한 weight를 다시 불러오기\n",
        "model_wav.load_weights(checkpoint_dir)\n",
        "print(\"✅\")"
      ],
      "execution_count": 27,
      "outputs": [
        {
          "output_type": "stream",
          "text": [
            "✅\n"
          ],
          "name": "stdout"
        }
      ]
    },
    {
      "cell_type": "code",
      "metadata": {
        "id": "Q4EutLWV8u7N",
        "colab": {
          "base_uri": "https://localhost:8080/",
          "height": 0
        },
        "outputId": "140bf117-85b6-4235-8f3b-af66e78d51a6"
      },
      "source": [
        "results = model_wav.evaluate(test_dataset)    # test data 이용하여 평가하기\n",
        "print(\"✅\")"
      ],
      "execution_count": 28,
      "outputs": [
        {
          "output_type": "stream",
          "text": [
            "159/159 [==============================] - 7s 41ms/step - loss: 0.2739 - accuracy: 0.9180\n",
            "✅\n"
          ],
          "name": "stdout"
        }
      ]
    },
    {
      "cell_type": "code",
      "metadata": {
        "id": "kxvGSKDi8u7N",
        "colab": {
          "base_uri": "https://localhost:8080/",
          "height": 0
        },
        "outputId": "42abe4fc-cd08-471f-f468-faecbed8c757"
      },
      "source": [
        "# loss\n",
        "print(\"loss value: {:.3f}\".format(results[0]))\n",
        "\n",
        "# accuracy\n",
        "print(\"accuracy value: {:.4f}%\".format(results[1]*100))\n",
        "print(\"✅\")"
      ],
      "execution_count": 29,
      "outputs": [
        {
          "output_type": "stream",
          "text": [
            "loss value: 0.274\n",
            "accuracy value: 91.8017%\n",
            "✅\n"
          ],
          "name": "stdout"
        }
      ]
    },
    {
      "cell_type": "code",
      "metadata": {
        "id": "bKAJjcj88u7O",
        "colab": {
          "base_uri": "https://localhost:8080/",
          "height": 91
        },
        "outputId": "6dcaf73c-7181-45e0-c423-e80697506b19"
      },
      "source": [
        "## Model Test\n",
        "\n",
        "inv_label_value = {v: k for k, v in label_value.items()}    # 딕셔너리 형태로 데이터 받음\n",
        "batch_index = np.random.choice(len(test_wav), size=1, replace=False)\n",
        "\n",
        "batch_xs = test_wav[batch_index]\n",
        "batch_ys = test_label[batch_index]\n",
        "y_pred_ = model_wav(batch_xs, training=False)\n",
        "\n",
        "print(\"label : \", str(inv_label_value[batch_ys[0]]))\n",
        "\n",
        "ipd.Audio(batch_xs.reshape(8000,), rate=8000)"
      ],
      "execution_count": 30,
      "outputs": [
        {
          "output_type": "stream",
          "text": [
            "label :  unknown\n"
          ],
          "name": "stdout"
        },
        {
          "output_type": "execute_result",
          "data": {
            "text/html": [
              "\n",
              "                <audio controls=\"controls\" >\n",
              "                    <source src=\"data:audio/wav;base64,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\" type=\"audio/wav\" />\n",
              "                    Your browser does not support the audio element.\n",
              "                </audio>\n",
              "              "
            ],
            "text/plain": [
              "<IPython.lib.display.Audio object>"
            ]
          },
          "metadata": {
            "tags": []
          },
          "execution_count": 30
        }
      ]
    },
    {
      "cell_type": "code",
      "metadata": {
        "id": "Xkr76tYf8u7O",
        "colab": {
          "base_uri": "https://localhost:8080/",
          "height": 0
        },
        "outputId": "13eb30fd-764b-45c4-cd31-a6723b156922"
      },
      "source": [
        "# 위에서 확인해 본 테스트셋의 라벨과 우리 모델의 실제 prediction 결과 비교\n",
        "\n",
        "if np.argmax(y_pred_) == batch_ys[0]:\n",
        "    print(\"y_pred: \" + str(inv_label_value[np.argmax(y_pred_)]) + '(Correct!)')\n",
        "else:\n",
        "    print(\"y_pred: \" + str(inv_label_value[np.argmax(y_pred_)]) + '(Incorrect!)')\n",
        "print(\"✅\")"
      ],
      "execution_count": 31,
      "outputs": [
        {
          "output_type": "stream",
          "text": [
            "y_pred: unknown(Correct!)\n",
            "✅\n"
          ],
          "name": "stdout"
        }
      ]
    },
    {
      "cell_type": "code",
      "metadata": {
        "id": "h8tul7pF8u7P",
        "colab": {
          "base_uri": "https://localhost:8080/",
          "height": 0
        },
        "outputId": "0b91e36e-aa46-4039-e140-83c70c9ff8df"
      },
      "source": [
        "## Skip-Connection model 추가해보기\n",
        "\n",
        "# Concat을 이용한 방식으로 구현\n",
        "input_tensor = layers.Input(shape=(sr, 1))\n",
        "\n",
        "x = layers.Conv1D(32, 9, padding='same', activation='relu')(input_tensor)\n",
        "x = layers.Conv1D(32, 9, padding='same', activation='relu')(x)\n",
        "skip_1 = layers.MaxPool1D()(x)\n",
        "\n",
        "x = layers.Conv1D(64, 9, padding='same', activation='relu')(skip_1)\n",
        "x = layers.Conv1D(64, 9, padding='same', activation='relu')(x)\n",
        "x = tf.concat([x, skip_1], -1)\n",
        "skip_2 = layers.MaxPool1D()(x)\n",
        "\n",
        "x = layers.Conv1D(128, 9, padding='same', activation='relu')(skip_2)\n",
        "x = layers.Conv1D(128, 9, padding='same', activation='relu')(x)\n",
        "x = layers.Conv1D(128, 9, padding='same', activation='relu')(x)\n",
        "x = tf.concat([x, skip_2], -1)\n",
        "skip_3 = layers.MaxPool1D()(x)\n",
        "\n",
        "x = layers.Conv1D(256, 9, padding='same', activation='relu')(skip_3)\n",
        "x = layers.Conv1D(256, 9, padding='same', activation='relu')(x)\n",
        "x = layers.Conv1D(256, 9, padding='same', activation='relu')(x)\n",
        "x = tf.concat([x, skip_3], -1)\n",
        "x = layers.MaxPool1D()(x)\n",
        "x = layers.Dropout(0.3)(x)\n",
        "\n",
        "x = layers.Flatten()(x)\n",
        "x = layers.Dense(256)(x)\n",
        "x = layers.BatchNormalization()(x)\n",
        "x = layers.Activation('relu')(x)\n",
        "\n",
        "output_tensor = layers.Dense(12)(x)\n",
        "\n",
        "model_wav_skip = tf.keras.Model(input_tensor, output_tensor)\n",
        "\n",
        "model_wav_skip.summary()"
      ],
      "execution_count": 32,
      "outputs": [
        {
          "output_type": "stream",
          "text": [
            "Model: \"model_1\"\n",
            "__________________________________________________________________________________________________\n",
            "Layer (type)                    Output Shape         Param #     Connected to                     \n",
            "==================================================================================================\n",
            "input_2 (InputLayer)            [(None, 8000, 1)]    0                                            \n",
            "__________________________________________________________________________________________________\n",
            "conv1d_10 (Conv1D)              (None, 8000, 32)     320         input_2[0][0]                    \n",
            "__________________________________________________________________________________________________\n",
            "conv1d_11 (Conv1D)              (None, 8000, 32)     9248        conv1d_10[0][0]                  \n",
            "__________________________________________________________________________________________________\n",
            "max_pooling1d_4 (MaxPooling1D)  (None, 4000, 32)     0           conv1d_11[0][0]                  \n",
            "__________________________________________________________________________________________________\n",
            "conv1d_12 (Conv1D)              (None, 4000, 64)     18496       max_pooling1d_4[0][0]            \n",
            "__________________________________________________________________________________________________\n",
            "conv1d_13 (Conv1D)              (None, 4000, 64)     36928       conv1d_12[0][0]                  \n",
            "__________________________________________________________________________________________________\n",
            "tf.concat (TFOpLambda)          (None, 4000, 96)     0           conv1d_13[0][0]                  \n",
            "                                                                 max_pooling1d_4[0][0]            \n",
            "__________________________________________________________________________________________________\n",
            "max_pooling1d_5 (MaxPooling1D)  (None, 2000, 96)     0           tf.concat[0][0]                  \n",
            "__________________________________________________________________________________________________\n",
            "conv1d_14 (Conv1D)              (None, 2000, 128)    110720      max_pooling1d_5[0][0]            \n",
            "__________________________________________________________________________________________________\n",
            "conv1d_15 (Conv1D)              (None, 2000, 128)    147584      conv1d_14[0][0]                  \n",
            "__________________________________________________________________________________________________\n",
            "conv1d_16 (Conv1D)              (None, 2000, 128)    147584      conv1d_15[0][0]                  \n",
            "__________________________________________________________________________________________________\n",
            "tf.concat_1 (TFOpLambda)        (None, 2000, 224)    0           conv1d_16[0][0]                  \n",
            "                                                                 max_pooling1d_5[0][0]            \n",
            "__________________________________________________________________________________________________\n",
            "max_pooling1d_6 (MaxPooling1D)  (None, 1000, 224)    0           tf.concat_1[0][0]                \n",
            "__________________________________________________________________________________________________\n",
            "conv1d_17 (Conv1D)              (None, 1000, 256)    516352      max_pooling1d_6[0][0]            \n",
            "__________________________________________________________________________________________________\n",
            "conv1d_18 (Conv1D)              (None, 1000, 256)    590080      conv1d_17[0][0]                  \n",
            "__________________________________________________________________________________________________\n",
            "conv1d_19 (Conv1D)              (None, 1000, 256)    590080      conv1d_18[0][0]                  \n",
            "__________________________________________________________________________________________________\n",
            "tf.concat_2 (TFOpLambda)        (None, 1000, 480)    0           conv1d_19[0][0]                  \n",
            "                                                                 max_pooling1d_6[0][0]            \n",
            "__________________________________________________________________________________________________\n",
            "max_pooling1d_7 (MaxPooling1D)  (None, 500, 480)     0           tf.concat_2[0][0]                \n",
            "__________________________________________________________________________________________________\n",
            "dropout_1 (Dropout)             (None, 500, 480)     0           max_pooling1d_7[0][0]            \n",
            "__________________________________________________________________________________________________\n",
            "flatten_1 (Flatten)             (None, 240000)       0           dropout_1[0][0]                  \n",
            "__________________________________________________________________________________________________\n",
            "dense_2 (Dense)                 (None, 256)          61440256    flatten_1[0][0]                  \n",
            "__________________________________________________________________________________________________\n",
            "batch_normalization_1 (BatchNor (None, 256)          1024        dense_2[0][0]                    \n",
            "__________________________________________________________________________________________________\n",
            "activation_1 (Activation)       (None, 256)          0           batch_normalization_1[0][0]      \n",
            "__________________________________________________________________________________________________\n",
            "dense_3 (Dense)                 (None, 12)           3084        activation_1[0][0]               \n",
            "==================================================================================================\n",
            "Total params: 63,611,756\n",
            "Trainable params: 63,611,244\n",
            "Non-trainable params: 512\n",
            "__________________________________________________________________________________________________\n"
          ],
          "name": "stdout"
        }
      ]
    },
    {
      "cell_type": "code",
      "metadata": {
        "id": "rtXkPOkw8u7Q",
        "colab": {
          "base_uri": "https://localhost:8080/",
          "height": 0
        },
        "outputId": "5fbab2ae-de12-4e23-b034-fb283fa90283"
      },
      "source": [
        "optimizer=tf.keras.optimizers.Adam(1e-4)\n",
        "model_wav_skip.compile(loss=tf.keras.losses.CategoricalCrossentropy(from_logits=True),\n",
        "                       optimizer=optimizer,\n",
        "                       metrics=['accuracy'])\n",
        "print(\"✅\")"
      ],
      "execution_count": 33,
      "outputs": [
        {
          "output_type": "stream",
          "text": [
            "✅\n"
          ],
          "name": "stdout"
        }
      ]
    },
    {
      "cell_type": "code",
      "metadata": {
        "id": "JJekMOKw8u7R",
        "colab": {
          "base_uri": "https://localhost:8080/",
          "height": 0
        },
        "outputId": "a6d4e305-c828-42b8-ca14-1fd6c2b96aeb"
      },
      "source": [
        "# the save point\n",
        "checkpoint_dir = '/content/drive/MyDrive'+'/aiffel/speech_recognition/models/wav_skip'\n",
        "cp_callback = tf.keras.callbacks.ModelCheckpoint(checkpoint_dir,\n",
        "                                                 save_weights_only=True,\n",
        "                                                 monitor='val_loss',\n",
        "                                                 mode='auto',\n",
        "                                                 save_best_only=True,\n",
        "                                                 verbose=1)\n",
        "print(\"✅\")"
      ],
      "execution_count": 34,
      "outputs": [
        {
          "output_type": "stream",
          "text": [
            "✅\n"
          ],
          "name": "stdout"
        }
      ]
    },
    {
      "cell_type": "code",
      "metadata": {
        "id": "-QkMb47M8u7R",
        "colab": {
          "base_uri": "https://localhost:8080/",
          "height": 0
        },
        "outputId": "8a0190cb-4efa-4a90-c71a-9c3a0152a85d"
      },
      "source": [
        "# 30분 내외 소요\n",
        "history_wav_skip = model_wav_skip.fit(train_dataset, epochs=max_epochs,\n",
        "                                      steps_per_epoch=len(train_wav) // batch_size,\n",
        "                                      validation_data=test_dataset,\n",
        "                                      validation_steps=len(test_wav) // batch_size,\n",
        "                                      callbacks=[cp_callback]\n",
        "                                     )\n",
        "print(\"✅\")"
      ],
      "execution_count": 35,
      "outputs": [
        {
          "output_type": "stream",
          "text": [
            "Epoch 1/10\n",
            "1423/1423 [==============================] - 248s 173ms/step - loss: 1.6120 - accuracy: 0.4683 - val_loss: 0.7435 - val_accuracy: 0.7668\n",
            "\n",
            "Epoch 00001: val_loss improved from inf to 0.74349, saving model to /content/drive/MyDrive/aiffel/speech_recognition/models/wav_skip\n",
            "Epoch 2/10\n",
            "1423/1423 [==============================] - 246s 173ms/step - loss: 0.7340 - accuracy: 0.7801 - val_loss: 0.5101 - val_accuracy: 0.8325\n",
            "\n",
            "Epoch 00002: val_loss improved from 0.74349 to 0.51006, saving model to /content/drive/MyDrive/aiffel/speech_recognition/models/wav_skip\n",
            "Epoch 3/10\n",
            "1423/1423 [==============================] - 246s 172ms/step - loss: 0.4285 - accuracy: 0.8808 - val_loss: 0.4248 - val_accuracy: 0.8635\n",
            "\n",
            "Epoch 00003: val_loss improved from 0.51006 to 0.42478, saving model to /content/drive/MyDrive/aiffel/speech_recognition/models/wav_skip\n",
            "Epoch 4/10\n",
            "1423/1423 [==============================] - 245s 172ms/step - loss: 0.2235 - accuracy: 0.9462 - val_loss: 0.3062 - val_accuracy: 0.9066\n",
            "\n",
            "Epoch 00004: val_loss improved from 0.42478 to 0.30617, saving model to /content/drive/MyDrive/aiffel/speech_recognition/models/wav_skip\n",
            "Epoch 5/10\n",
            "1423/1423 [==============================] - 245s 172ms/step - loss: 0.1282 - accuracy: 0.9720 - val_loss: 0.3034 - val_accuracy: 0.9064\n",
            "\n",
            "Epoch 00005: val_loss improved from 0.30617 to 0.30342, saving model to /content/drive/MyDrive/aiffel/speech_recognition/models/wav_skip\n",
            "Epoch 6/10\n",
            "1423/1423 [==============================] - 245s 172ms/step - loss: 0.0859 - accuracy: 0.9829 - val_loss: 0.2515 - val_accuracy: 0.9231\n",
            "\n",
            "Epoch 00006: val_loss improved from 0.30342 to 0.25154, saving model to /content/drive/MyDrive/aiffel/speech_recognition/models/wav_skip\n",
            "Epoch 7/10\n",
            "1423/1423 [==============================] - 245s 172ms/step - loss: 0.0623 - accuracy: 0.9871 - val_loss: 0.2845 - val_accuracy: 0.9124\n",
            "\n",
            "Epoch 00007: val_loss did not improve from 0.25154\n",
            "Epoch 8/10\n",
            "1423/1423 [==============================] - 245s 172ms/step - loss: 0.0428 - accuracy: 0.9906 - val_loss: 0.2919 - val_accuracy: 0.9150\n",
            "\n",
            "Epoch 00008: val_loss did not improve from 0.25154\n",
            "Epoch 9/10\n",
            "1423/1423 [==============================] - 245s 172ms/step - loss: 0.0349 - accuracy: 0.9930 - val_loss: 0.2283 - val_accuracy: 0.9308\n",
            "\n",
            "Epoch 00009: val_loss improved from 0.25154 to 0.22832, saving model to /content/drive/MyDrive/aiffel/speech_recognition/models/wav_skip\n",
            "Epoch 10/10\n",
            "1423/1423 [==============================] - 245s 172ms/step - loss: 0.0291 - accuracy: 0.9935 - val_loss: 0.2175 - val_accuracy: 0.9343\n",
            "\n",
            "Epoch 00010: val_loss improved from 0.22832 to 0.21754, saving model to /content/drive/MyDrive/aiffel/speech_recognition/models/wav_skip\n",
            "✅\n"
          ],
          "name": "stdout"
        }
      ]
    },
    {
      "cell_type": "code",
      "metadata": {
        "id": "8dOUsGPI8u7S",
        "colab": {
          "base_uri": "https://localhost:8080/",
          "height": 517
        },
        "outputId": "8ef581f1-f5c8-4fe5-b6b2-eda224d133cf"
      },
      "source": [
        "import matplotlib.pyplot as plt\n",
        "\n",
        "acc = history_wav_skip.history['accuracy']\n",
        "val_acc = history_wav_skip.history['val_accuracy']\n",
        "\n",
        "loss=history_wav_skip.history['loss']\n",
        "val_loss=history_wav_skip.history['val_loss']\n",
        "\n",
        "epochs_range = range(len(acc))\n",
        "\n",
        "plt.figure(figsize=(8, 8))\n",
        "plt.subplot(1, 2, 1)\n",
        "plt.plot(epochs_range, acc, label='Training Accuracy')\n",
        "plt.plot(epochs_range, val_acc, label='Validation Accuracy')\n",
        "plt.legend(loc='lower right')\n",
        "plt.title('Training and Validation Accuracy')\n",
        "\n",
        "plt.subplot(1, 2, 2)\n",
        "plt.plot(epochs_range, loss, label='Training Loss')\n",
        "plt.plot(epochs_range, val_loss, label='Validation Loss')\n",
        "plt.legend(loc='upper right')\n",
        "plt.title('Training and Validation Loss')\n",
        "plt.show()\n",
        "print(\"✅\")"
      ],
      "execution_count": 36,
      "outputs": [
        {
          "output_type": "display_data",
          "data": {
            "image/png": "[encoded data removed]",
            "text/plain": [
              "<Figure size 576x576 with 2 Axes>"
            ]
          },
          "metadata": {
            "tags": [],
            "needs_background": "light"
          }
        },
        {
          "output_type": "stream",
          "text": [
            "✅\n"
          ],
          "name": "stdout"
        }
      ]
    },
    {
      "cell_type": "code",
      "metadata": {
        "id": "hRfZol5P8u7T",
        "colab": {
          "base_uri": "https://localhost:8080/",
          "height": 0
        },
        "outputId": "10c62e3e-16cf-4e30-a950-156d8bee9fb8"
      },
      "source": [
        "# Evaluation\n",
        "\n",
        "model_wav_skip.load_weights(checkpoint_dir)\n",
        "results = model_wav_skip.evaluate(test_dataset)\n",
        "\n",
        "# loss\n",
        "print(\"loss value: {:.3f}\".format(results[0]))\n",
        "\n",
        "# accuracy\n",
        "print(\"accuracy value: {:.4f}%\".format(results[1]*100))\n",
        "print(\"✅\")"
      ],
      "execution_count": 37,
      "outputs": [
        {
          "output_type": "stream",
          "text": [
            "159/159 [==============================] - 8s 48ms/step - loss: 0.2173 - accuracy: 0.9344\n",
            "loss value: 0.217\n",
            "accuracy value: 93.4413%\n",
            "✅\n"
          ],
          "name": "stdout"
        }
      ]
    },
    {
      "cell_type": "code",
      "metadata": {
        "id": "-OjAvDFm8u7T",
        "colab": {
          "base_uri": "https://localhost:8080/",
          "height": 91
        },
        "outputId": "1f95e771-7e50-4a04-d9cf-a98e55d5617f"
      },
      "source": [
        "# Test\n",
        "\n",
        "inv_label_value = {v: k for k, v in label_value.items()}\n",
        "batch_index = np.random.choice(len(test_wav), size=1, replace=False)\n",
        "\n",
        "batch_xs = test_wav[batch_index]\n",
        "batch_ys = test_label[batch_index]\n",
        "y_pred_ = model_wav_skip(batch_xs, training=False)\n",
        "\n",
        "print(\"label : \", str(inv_label_value[batch_ys[0]]))\n",
        "\n",
        "ipd.Audio(batch_xs.reshape(8000,), rate=8000)"
      ],
      "execution_count": 38,
      "outputs": [
        {
          "output_type": "stream",
          "text": [
            "label :  stop\n"
          ],
          "name": "stdout"
        },
        {
          "output_type": "execute_result",
          "data": {
            "text/html": [
              "\n",
              "                <audio controls=\"controls\" >\n",
              "                    <source src=\"data:audio/wav;base64,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\" type=\"audio/wav\" />\n",
              "                    Your browser does not support the audio element.\n",
              "                </audio>\n",
              "              "
            ],
            "text/plain": [
              "<IPython.lib.display.Audio object>"
            ]
          },
          "metadata": {
            "tags": []
          },
          "execution_count": 38
        }
      ]
    },
    {
      "cell_type": "code",
      "metadata": {
        "id": "ebAAAP1P8u7U",
        "colab": {
          "base_uri": "https://localhost:8080/",
          "height": 0
        },
        "outputId": "b84718e6-2d52-43e1-a88f-85f8e03d48e1"
      },
      "source": [
        "if np.argmax(y_pred_) == batch_ys[0]:\n",
        "    print(\"y_pred: \" + str(inv_label_value[np.argmax(y_pred_)]) + '(Correct!)')\n",
        "else:\n",
        "    print(\"y_pred: \" + str(inv_label_value[np.argmax(y_pred_)]) + '(Incorrect!)')\n",
        "print(\"✅\")"
      ],
      "execution_count": 39,
      "outputs": [
        {
          "output_type": "stream",
          "text": [
            "y_pred: stop(Correct!)\n",
            "✅\n"
          ],
          "name": "stdout"
        }
      ]
    },
    {
      "cell_type": "code",
      "metadata": {
        "id": "gDdLND3y8u7U",
        "colab": {
          "base_uri": "https://localhost:8080/",
          "height": 350
        },
        "outputId": "39684d61-f9e2-48b2-ea5e-d619fcd38039"
      },
      "source": [
        "## Spectrogram\n",
        "\n",
        "# waveform은 실제로는 많은 음원의 파형이 합성된 복합파\n",
        "# 다양한 파형들을 그 주파수 대역별로 나누어 별도로 해석해야 한다.\n",
        "\n",
        "# 푸리에 변환(Fourier transform)\n",
        "# 임의의 입력 신호를 다양한 주파수를 갖는 주기함수(복수 지수함수)들이 합으로 분해하여 표현\n",
        "\n",
        "# 푸리에 변환이 끝나면 복소수 얻음. \n",
        "# 복소수의 절대값은 Spectrum magnitude(주파수의 강도) \n",
        "# 복소수가 가지는 phase는 phase spectrum(주파수의 위상)\n",
        "\n",
        "# STFT(Short Time Fourier Transform)\n",
        "# FFT는 시간의 흐름에 따라 신호의 주파수 변했을 때, 어느 시간대에 주파수가 변하는지 모름\n",
        "# STFT는 이를 극복하기 위해서 시간의 길이를 나눠서 푸리에 변환\n",
        "# STFT의 결과: 시간의 흐름에 따른 frequency 영역별 Amplitude 반환\n",
        "\n",
        "# Spectrogram: wav 데이터를 해석하는 방법 중 하나\n",
        "# 일정 시간 동안 wav 데이터 안의 다양한 주파수들이 얼마나 포함되어있는지 보여줌\n",
        "# STFT는 Spectrogram을 그리는 방법\n",
        "\n",
        "# X축은 시간, Y축은 주파수\n",
        "# 음파 강도에 따라 밝은색으로 표현\n",
        "\n",
        "# FFT 관련 라이브러리 librosa 설치\n",
        "# $ pip install librosa\n",
        "\n",
        "import librosa\n",
        "\n",
        "def wav2spec(wav, fft_size=258):    # spectrogram shape을 맞추기 위해 size 변형\n",
        "    D = np.abs(librosa.stft(wav, n_fft=fft_size))\n",
        "    return D\n",
        "print(\"✅\")\n",
        "\n",
        "# 위에서 뽑았던 sample data\n",
        "spec = wav2spec(data)\n",
        "print(\"Waveform shape : \", data.shape)\n",
        "print(\"Spectrogram shape : \", spec.shape)\n",
        "\n",
        "import librosa.display\n",
        "\n",
        "librosa.display.specshow(librosa.amplitude_to_db(spec, ref=np.max), x_axis='time')\n",
        "plt.title('Power spectrogram')\n",
        "plt.colorbar(format='%+2.0f dB')\n",
        "plt.xticks(range(0, 1))\n",
        "plt.tight_layout()\n",
        "plt.show()"
      ],
      "execution_count": 40,
      "outputs": [
        {
          "output_type": "stream",
          "text": [
            "✅\n",
            "Waveform shape :  (8000,)\n",
            "Spectrogram shape :  (130, 126)\n"
          ],
          "name": "stdout"
        },
        {
          "output_type": "display_data",
          "data": {
            "image/png": "[encoded data removed]",
            "text/plain": [
              "<Figure size 432x288 with 2 Axes>"
            ]
          },
          "metadata": {
            "tags": [],
            "needs_background": "light"
          }
        }
      ]
    }
  ]
}
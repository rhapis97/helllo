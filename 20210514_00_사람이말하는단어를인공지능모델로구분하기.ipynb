{
 "cells": [
  {
   "cell_type": "code",
   "execution_count": null,
   "metadata": {},
   "outputs": [],
   "source": [
    "# 음성(speech): 사람의 언어가 들어 있는 소리  \n",
    "# 오디오(audio): 사람 목소리 이외의 모든 소리를 통칭해서 일컬음. 생활소리, 동물울음소리, 클래식, 악기소리 등  \n",
    "  \n",
    "# 음성의 경우 일정한 주파수 영역에만 해당하기 때문에 일반적인 소리보다 처리하기가 수월  \n",
    "  \n",
    "# 소리: 진동으로 인한 공기의 압축  \n",
    "# 파동: 압축이 얼마나 됐는지를 말함  \n",
    "  \n",
    "# 소리에서 얻을 수 있는 물리량의 3요소  \n",
    "#     - 진폭(Amplitude)   : 소리의 세기(크기)가 달라짐  \n",
    "#     - 주파수(Frequency) : 소리의 높이 달라짐  \n",
    "#     - 위상(Phase)\n",
    "  \n",
    "  \n",
    "# - 물리적 음향\n",
    "#     - Intensity(강도)를 진폭의 세기로 정의\n",
    "#     - Frequency는 떨림의 빠르기로 정의\n",
    "#     - Tone-Color는 파동의 모양으로 정의\n",
    "# - 심리적 음향\n",
    "#     - Loudness: 소리의 크기를 말함\n",
    "#     - Pitch : 음정, 소리의 높낮이, 진동수를 의미\n",
    "#     - Timbre : 음색, 소리, 감각 등을 나타냄\n",
    "  \n",
    "  \n",
    "# 주파수(the number of compression): 1초 동안의 진동 횟수 (단위: Hz - 1Hz는 1초에 한 번 진동한다는 것을 의미)  \n",
    "# 주기(period): 파동이 한 번 진동하는데 걸리는 시간 또는 그 길이  \n",
    "  \n",
    "  \n",
    "# 복합파: 서로 다른 주파수를 가진 수많은 소리가 뒤섞여 만들어진다. 우리가 사용하는 대부분의 소리가 이에 해당. 서로 다른 정현파(sine wave)들의 합으로 이루어진 파형  \n"
   ]
  },
  {
   "cell_type": "code",
   "execution_count": 1,
   "metadata": {
    "scrolled": true
   },
   "outputs": [
    {
     "data": {
      "image/png": "[encoded data removed]",
      "text/plain": [
       "<Figure size 432x288 with 1 Axes>"
      ]
     },
     "metadata": {
      "needs_background": "light"
     },
     "output_type": "display_data"
    }
   ],
   "source": [
    "## 아날로그 신호의 표본화(ampling)\n",
    "\n",
    "# 1사이클 동안 나타나는 연속 시간 연속 크기 아날로그 신호인 간단한 사인함수 그려보기\n",
    "# 표본화(Sampling): 시간축 방향에서 일정 간격으로 샘플을 추출하여 이산 신호(discrete signal)로 변환시키는 과정\n",
    "\n",
    "import numpy as np\n",
    "import matplotlib.pyplot as plt\n",
    "\n",
    "# sampling_rate: 초당 샘플링의 횟수(샘플링: 1초의 연속적인 신호를 몇 개의 숫자로 나누어 표현할 것인지)\n",
    "# 16kHz는 보통 Speech에서 많이 사용되는 주파수 영역대 / 44.1kHz는 Music에서 많이 사용하는 주파수영역대\n",
    "# 음성데이터를 사용할 것이므로 sampling_rate를 16000(16k)으로 지정\n",
    "# duration: 지속시간(초 단위)\n",
    "def single_tone(frequecy, sampling_rate=16000, duration=1):\n",
    "    t = np.linspace(0, duration, int(sampling_rate))\n",
    "    y = np.sin(2 * np.pi * frequecy * t)\n",
    "    return y\n",
    "\n",
    "y = single_tone(400)    # 주파수(Hz: 주기가 일정하게 반복되는 횟수)\n",
    "\n",
    "plt.plot(y[:41])\n",
    "plt.show()"
   ]
  },
  {
   "cell_type": "code",
   "execution_count": 5,
   "metadata": {},
   "outputs": [
    {
     "data": {
      "text/plain": [
       "0.4540167434911468"
      ]
     },
     "execution_count": 5,
     "metadata": {},
     "output_type": "execute_result"
    }
   ],
   "source": [
    "y[3]"
   ]
  },
  {
   "cell_type": "code",
   "execution_count": 2,
   "metadata": {},
   "outputs": [
    {
     "data": {
      "image/png": "[encoded data removed]",
      "text/plain": [
       "<Figure size 432x288 with 1 Axes>"
      ]
     },
     "metadata": {
      "needs_background": "light"
     },
     "output_type": "display_data"
    }
   ],
   "source": [
    "# 1사이클 동안 나타나는 이산시간 연속크기 신호 출력\n",
    "plt.stem(y[:41])\n",
    "plt.show()"
   ]
  },
  {
   "cell_type": "code",
   "execution_count": null,
   "metadata": {},
   "outputs": [],
   "source": [
    "# 연속적인 아날로그 신호를 컴퓨터 입력으로 넣게 되면  \n",
    "# 표본화(Sampling), 양자화(Quantizing), 부호화(Encoding)을 거쳐  \n",
    "# 이진 디지털 신호(Binary Digital Signal)로 변화시켜 인식  \n",
    "  \n",
    "# 아날로그 데이터에서 일정 간격으로 표본을 채취하는 방식으로 이산적 데이터를 구한다.  \n",
    "# 이산적 데이터 값이 소수점 아래로 무한히 정밀해질 수 없어서 일정 간격으로 값을 근사하여 구할 수밖에 없는데, 이 과정이 양자화  \n",
    "# 이 과정에서 원본 데이터와 차이가 발생. Sampling_rate가 클수록 기대 왜곡치가 작아져 원본에 가까운 형태로 변환 \n",
    "  \n",
    "# 부호화 통해 표본화와 양자화를 거친 원본 아날로그 수치가 최종적인 디지털 표현을 얻게 된다.(0, 1)"
   ]
  },
  {
   "cell_type": "code",
   "execution_count": null,
   "metadata": {},
   "outputs": [],
   "source": [
    "# 음성인식 모델을 위한 학습데이터 다운로드\n",
    "# 리눅스 가상환경에서 진행\n",
    "# $ mkdir -p ~/aiffel/speech_recognition/data\n",
    "# $ mkdir -p ~/aiffel/speech_recognition/models\n",
    "# $ wget https://aiffelstaticdev.blob.core.windows.net/dataset/speech_wav_8000.npz -P ~/aiffel/speech_recognition/data"
   ]
  },
  {
   "cell_type": "code",
   "execution_count": null,
   "metadata": {},
   "outputs": [],
   "source": [
    "# waveform 형태의 데이터\n",
    "# - Audio 데이터는 이미지 데이터보다 낮은 차원의 데이터를 다룸\n",
    "# - 1개의 wav 파일은 1차원으로 이루어진 시계열 데이터\n",
    "# - 여러 소리 파형이 합쳐진 복합파\n",
    "\n",
    "# 간단한 단어 인식을 위한 훈련데이터셋\n",
    "# - 짧은 단어의 라벨이 달려 있어, 음성들을 텍스트로 구분하는 모델 혹은 간단한 명령어를 구별하는 모델로도 학습 가능\n",
    "\n",
    "# Bits per sample\n",
    "# - 샘플 하나마다 소리의 세기를 몇 비트로 저장했는지 나타냄\n",
    "# - 값이 커질수록 세기를 정확하게 저장할 수 있다.\n",
    "# - 4 bits / 8 bits unsigned int / 16 bits int / 24 bits / 32 bits float 등의 자료형으로 표현\n",
    "\n",
    "# Sampling frequency\n",
    "# - 샘플링 주파수: 소리로부터 초당 샘플링한 횟수 의미\n",
    "# - 원래 신호를 다시 복원할 수 있는 나이퀴스트(Nyquist) 샘플링 룰에 따라 복원해야 할 신호 주파수의 2배 이상으로 샘플링 해야 함\n",
    "# - 가청 주파수(20 ~ 24 kHz)를 복원하기 위해 사용. 음원에서는 44.1kHz를 많이 이용\n",
    "\n",
    "# Channel\n",
    "# - 각 채널별로 샘플링된 데이터 따로 저장\n",
    "# - 2채널(Stereo) 음원 재생시 왼쪽과 오른쪽 스피커에 다른 값 출력\n",
    "# - 1채널(Mono) 음원의 경우 왼쪽 데이터만 있고, 재생시에 오른쪽 스피커에도 같은 값이 출력"
   ]
  },
  {
   "cell_type": "code",
   "execution_count": null,
   "metadata": {},
   "outputs": [],
   "source": [
    "import numpy as np\n",
    "import os\n",
    "\n",
    "# 다운받은 데이터 파일을 data_path 변수에 불러온다.\n",
    "data_path = os.getenv(\"HOME\")+'/aiffel/speech_recognition/data/speech_wav_8000.npz'\n",
    "speech_data = np.load(data_path)\n",
    "print(\"✅\")\n",
    "\n",
    "# 1000Hz 신호를 저장한 wav 파일\n",
    "# Sample rate는 48000Hz, 즉 1초 재생하는데 필요한 Sample의 수가 48000개\n",
    "# 모든 샘플은 -1 ~ 1 사이의 정해진 bits per sample의 값으로 표현됨"
   ]
  },
  {
   "cell_type": "code",
   "execution_count": null,
   "metadata": {},
   "outputs": [],
   "source": [
    "## 데이터셋 살펴보기\n",
    "\n",
    "# npz파일로 이뤄진 데이터 - 각각 데이터는 wav_vals, label_vals로 저장되어 있음\n",
    "print(\"Wave data shape : \", speech_data[\"wav_vals\"].shape)\n",
    "print(\"Label data shape : \", speech_data[\"label_vals\"].shape)\n",
    "print(\"✅\")\n",
    "\n",
    "# Wave data shape :  (50620, 8000)\n",
    "# Label data shape :  (50620, 1)\n",
    "\n",
    "# 데이터셋은 1초 길이의 오디오 음성데이터 50620개로 이루어짐\n",
    "# 원래 Sample rate는 16000이지만 8000으로 re-sampling하여 사용\n",
    "# 모두 1초의 길이를 가지는 오디오 음성데이터여서 각각 8000개의 sample data를 가짐"
   ]
  },
  {
   "cell_type": "code",
   "execution_count": null,
   "metadata": {},
   "outputs": [],
   "source": [
    "import IPython.display as ipd\n",
    "import random\n",
    "\n",
    "# 데이터 선택(랜덤하게 선택)\n",
    "rand = random.randint(0, len(speech_data[\"wav_vals\"]))\n",
    "print(\"rand num : \", rand)\n",
    "\n",
    "sr = 8000 # 1초동안 재생되는 샘플의 개수\n",
    "\n",
    "data = speech_data[\"wav_vals\"][rand]\n",
    "\n",
    "print(\"Wave data shape : \", data.shape)\n",
    "print(\"label : \", speech_data[\"label_vals\"][rand])\n",
    "\n",
    "ipd.Audio(data, rate=sr)\n"
   ]
  },
  {
   "cell_type": "code",
   "execution_count": null,
   "metadata": {},
   "outputs": [],
   "source": [
    "## train/test 데이터셋 구성하기\n",
    "\n",
    "# 현재 단어의 정답은 Text형태 - 학습 위해서 Text데이터를 학습가능한 형태로 만들어줘야 한다.\n",
    "\n",
    "# 구분해야 할 label 목록 / 이외의 데이터는 unknown, silence로 분류\n",
    "target_list = ['yes', 'no', 'up', 'down', 'left', 'right', 'on', 'off', 'stop', 'go']\n",
    "label_value = target_list\n",
    "label_value.append('unknown')\n",
    "label_value.append('silence')\n",
    "print('LABEL : ', label_value)\n",
    "\n",
    "new_label_value = dict()\n",
    "\n",
    "# enumerate(): 순서가 있는 자료형(리스트, 튜플, 문자열)을 입력으로 받아 인덱스 값을 포함하는 enumerate 객체를 돌려줌\n",
    "for i, l in enumerate(label_value):  # 인덱스와 자료형을 차례로 입력받음\n",
    "    new_label_value[l] = i           # Text로 이루어진 라벨 데이터를 학습에 사용하기 위해서 index 형태로 바꿔주는 작업\n",
    "\n",
    "label_value = new_label_value        # int로 이뤄진 index 작업을 통해서 Label data를 더 쉽게 사용\n",
    "\n",
    "print('Indexed LABEL : ', new_label_value)\n"
   ]
  },
  {
   "cell_type": "code",
   "execution_count": null,
   "metadata": {},
   "outputs": [],
   "source": [
    "temp = []\n",
    "\n",
    "for v in speech_data[\"label_vals\"]:\n",
    "    temp.append(label_value[v[0]])\n",
    "    \n",
    "label_data = np.array(temp)\n",
    "print(label_data)\n"
   ]
  },
  {
   "cell_type": "code",
   "execution_count": null,
   "metadata": {},
   "outputs": [],
   "source": [
    "## 학습을 위한 데이터 분리\n",
    "\n",
    "# train data와 test data 분리\n",
    "from sklearn.model_selection import train_test_split\n",
    "\n",
    "sr = 8000    # 1초동안 재생되는 샘플의 개수\n",
    "train_wav, test_wav, train_label, test_label = train_test_split(speech_data[\"wav_vals\"],\n",
    "                                                                label_data,\n",
    "                                                                test_size=0.1,    # 10% 만큼 테스트 데이터 할당\n",
    "                                                                shuffle=True)    # 무작위로 섞기\n",
    "print(train_wav)\n",
    "\n",
    "train_wav = train_wav.reshape([-1, sr, 1]) # add channel for CNN\n",
    "test_wav = test_wav.reshape([-1, sr, 1])\n",
    "print(\"✅\")"
   ]
  },
  {
   "cell_type": "code",
   "execution_count": null,
   "metadata": {},
   "outputs": [],
   "source": [
    "# 나눠진 데이터셋 확인\n",
    "print(\"train data : \", train_wav.shape)\n",
    "print(\"train labels : \", train_label.shape)\n",
    "print(\"test data : \", test_wav.shape)\n",
    "print(\"test labels : \", test_label.shape)\n",
    "print(\"✅\")\n"
   ]
  },
  {
   "cell_type": "code",
   "execution_count": null,
   "metadata": {},
   "outputs": [],
   "source": [
    "## 학습을 위한 하이퍼파라미터 설정\n",
    "\n",
    "batch_size = 32\n",
    "max_epochs = 10\n",
    "\n",
    "# the save point\n",
    "checkpoint_dir = os.getenv('HOME')+'/aiffel/speech_recognition/models/wav'\n",
    "\n",
    "print(checkpoint_dir)\n"
   ]
  },
  {
   "cell_type": "code",
   "execution_count": null,
   "metadata": {},
   "outputs": [],
   "source": [
    "## Data setting\n",
    "\n",
    "# tf.data.Dataset을 이용하여 데이터셋 구성하기\n",
    "# 해당 패키지는 전처리, 배치처리 등을 쉽게 할 수 있게 한다.\n",
    "\n",
    "def one_hot_label(wav, label):\n",
    "    label = tf.one_hot(label, depth=12)\n",
    "    return wav, label\n",
    "print(\"✅\")"
   ]
  },
  {
   "cell_type": "code",
   "execution_count": null,
   "metadata": {},
   "outputs": [],
   "source": [
    "import tensorflow as tf\n",
    "\n",
    "# tf.data.Dataset.from_tensor_slices() 함수에 return 받기 원하는 데이터를 \n",
    "# 튜플(data, label) 형태로 넣어서 사용할 수 있다.\n",
    "\n",
    "# map() 함수: dataset이 데이터를 불러올 때마다 동작시킬 데이터 전처리 함수를 매핑하는 역할\n",
    "# map 함수는 중첩해서 사용 가능\n",
    "\n",
    "# batch: dataset에서 제공하는 튜플 형태의 데이터를 얼마나 가져올지 결정\n",
    "\n",
    "# for train\n",
    "train_dataset = tf.data.Dataset.from_tensor_slices((train_wav, train_label))\n",
    "train_dataset = train_dataset.map(one_hot_label)\n",
    "train_dataset = train_dataset.repeat().batch(batch_size=batch_size)\n",
    "print(train_dataset)\n",
    "# for test\n",
    "test_dataset = tf.data.Dataset.from_tensor_slices((test_wav, test_label))\n",
    "test_dataset = test_dataset.map(one_hot_label)\n",
    "test_dataset = test_dataset.batch(batch_size=batch_size)\n",
    "print(test_dataset)\n",
    "print(\"✅\")"
   ]
  },
  {
   "cell_type": "code",
   "execution_count": null,
   "metadata": {},
   "outputs": [],
   "source": [
    "## Wave classification 모델 구현\n",
    "# Audio 데이터는 1차원 데이터 - Conv1D layer를 이용하여 모델 구성\n",
    "\n",
    "from tensorflow.keras import layers\n",
    "\n",
    "input_tensor = layers.Input(shape=(sr, 1))\n",
    "\n",
    "x = layers.Conv1D(32, 9, padding='same', activation='relu')(input_tensor)\n",
    "x = layers.Conv1D(32, 9, padding='same', activation='relu')(x)\n",
    "x = layers.MaxPool1D()(x)\n",
    "\n",
    "x = layers.Conv1D(64, 9, padding='same', activation='relu')(x)\n",
    "x = layers.Conv1D(64, 9, padding='same', activation='relu')(x)\n",
    "x = layers.MaxPool1D()(x)\n",
    "\n",
    "x = layers.Conv1D(128, 9, padding='same', activation='relu')(x)\n",
    "x = layers.Conv1D(128, 9, padding='same', activation='relu')(x)\n",
    "x = layers.Conv1D(128, 9, padding='same', activation='relu')(x)\n",
    "x = layers.MaxPool1D()(x)\n",
    "\n",
    "x = layers.Conv1D(256, 9, padding='same', activation='relu')(x)\n",
    "x = layers.Conv1D(256, 9, padding='same', activation='relu')(x)\n",
    "x = layers.Conv1D(256, 9, padding='same', activation='relu')(x)\n",
    "x = layers.MaxPool1D()(x)\n",
    "x = layers.Dropout(0.3)(x)\n",
    "\n",
    "x = layers.Flatten()(x)\n",
    "x = layers.Dense(256)(x)\n",
    "x = layers.BatchNormalization()(x)\n",
    "x = layers.Activation('relu')(x)\n",
    "\n",
    "output_tensor = layers.Dense(12)(x)\n",
    "\n",
    "model_wav = tf.keras.Model(input_tensor, output_tensor)\n",
    "\n",
    "model_wav.summary()"
   ]
  },
  {
   "cell_type": "code",
   "execution_count": null,
   "metadata": {},
   "outputs": [],
   "source": [
    "## Loss\n",
    "\n",
    "# 라벨이 될 수 있는 12개의 단어 클래스 - 구분하기 위해 multi-class classification 필요\n",
    "# Categrorical Cross-Entropy loss 사용\n",
    "\n",
    "optimizer=tf.keras.optimizers.Adam(1e-4)    # 최적화 함수\n",
    "model_wav.compile(loss=tf.keras.losses.CategoricalCrossentropy(from_logits=True),    # 손실함수\n",
    "                  optimizer=optimizer,\n",
    "                  metrics=['accuracy'])\n",
    "print(\"✅\")"
   ]
  },
  {
   "cell_type": "code",
   "execution_count": null,
   "metadata": {},
   "outputs": [],
   "source": [
    "# callback 함수를 이용해서 학습 중간 중간 원하는 동작을 하도록 설정\n",
    "# 모델 재사용 위해 모델 가중치 저장하는 callback 함수 추가\n",
    "cp_callback = tf.keras.callbacks.ModelCheckpoint(checkpoint_dir,\n",
    "                                                 save_weights_only=True,    # 가중치 저장\n",
    "                                                 monitor='val_loss',        # validation loss 모니터\n",
    "                                                 mode='auto',\n",
    "                                                 save_best_only=True,       # loss 개선될 때 저장\n",
    "                                                 verbose=1)\n",
    "print(\"✅\")"
   ]
  },
  {
   "cell_type": "code",
   "execution_count": null,
   "metadata": {},
   "outputs": [],
   "source": [
    "#30분 내외 소요(메모리 사용량 주의)\n",
    "history_wav = model_wav.fit(train_dataset, epochs=max_epochs,\n",
    "                            steps_per_epoch=len(train_wav) // batch_size,\n",
    "                            validation_data=test_dataset,\n",
    "                            validation_steps=len(test_wav) // batch_size,\n",
    "                            callbacks=[cp_callback]\n",
    "                           )\n",
    "print(\"✅\")"
   ]
  },
  {
   "cell_type": "code",
   "execution_count": null,
   "metadata": {},
   "outputs": [],
   "source": [
    "## 학습 결과 Plot\n",
    "\n",
    "import matplotlib.pyplot as plt\n",
    "\n",
    "acc = history_wav.history['accuracy']\n",
    "val_acc = history_wav.history['val_accuracy']\n",
    "\n",
    "loss=history_wav.history['loss']\n",
    "val_loss=history_wav.history['val_loss']\n",
    "\n",
    "epochs_range = range(len(acc))\n",
    "\n",
    "plt.figure(figsize=(8, 8))\n",
    "plt.subplot(1, 2, 1)\n",
    "plt.plot(epochs_range, acc, label='Training Accuracy')\n",
    "plt.plot(epochs_range, val_acc, label='Validation Accuracy')\n",
    "plt.legend(loc='lower right')\n",
    "plt.title('Training and Validation Accuracy')\n",
    "\n",
    "plt.subplot(1, 2, 2)\n",
    "plt.plot(epochs_range, loss, label='Training Loss')\n",
    "plt.plot(epochs_range, val_loss, label='Validation Loss')\n",
    "plt.legend(loc='upper right')\n",
    "plt.title('Training and Validation Loss')\n",
    "plt.show()\n",
    "print(\"✅\")"
   ]
  },
  {
   "cell_type": "code",
   "execution_count": null,
   "metadata": {},
   "outputs": [],
   "source": [
    "## 평가하기\n",
    "# test dataset을 애용하여 모델의 성능을 평가\n",
    "\n",
    "# checkpoint callback 함수가 저장한 weight를 다시 불러오기\n",
    "model_wav.load_weights(checkpoint_dir)\n",
    "print(\"✅\")"
   ]
  },
  {
   "cell_type": "code",
   "execution_count": null,
   "metadata": {},
   "outputs": [],
   "source": [
    "results = model_wav.evaluate(test_dataset)    # test data 이용하여 평가하기\n",
    "print(\"✅\")"
   ]
  },
  {
   "cell_type": "code",
   "execution_count": null,
   "metadata": {},
   "outputs": [],
   "source": [
    "# loss\n",
    "print(\"loss value: {:.3f}\".format(results[0]))\n",
    "\n",
    "# accuracy\n",
    "print(\"accuracy value: {:.4f}%\".format(results[1]*100))\n",
    "print(\"✅\")"
   ]
  },
  {
   "cell_type": "code",
   "execution_count": null,
   "metadata": {},
   "outputs": [],
   "source": [
    "## Model Test\n",
    "\n",
    "inv_label_value = {v: k for k, v in label_value.items()}    # 딕셔너리 형태로 데이터 받음\n",
    "batch_index = np.random.choice(len(test_wav), size=1, replace=False)\n",
    "\n",
    "batch_xs = test_wav[batch_index]\n",
    "batch_ys = test_label[batch_index]\n",
    "y_pred_ = model_wav(batch_xs, training=False)\n",
    "\n",
    "print(\"label : \", str(inv_label_value[batch_ys[0]]))\n",
    "\n",
    "ipd.Audio(batch_xs.reshape(8000,), rate=8000)"
   ]
  },
  {
   "cell_type": "code",
   "execution_count": null,
   "metadata": {},
   "outputs": [],
   "source": [
    "# 위에서 확인해 본 테스트셋의 라벨과 우리 모델의 실제 prediction 결과 비교\n",
    "\n",
    "if np.argmax(y_pred_) == batch_ys[0]:\n",
    "    print(\"y_pred: \" + str(inv_label_value[np.argmax(y_pred_)]) + '(Correct!)')\n",
    "else:\n",
    "    print(\"y_pred: \" + str(inv_label_value[np.argmax(y_pred_)]) + '(Incorrect!)')\n",
    "print(\"✅\")"
   ]
  },
  {
   "cell_type": "code",
   "execution_count": null,
   "metadata": {},
   "outputs": [],
   "source": [
    "## Skip-Connection model 추가해보기\n",
    "\n",
    "# Concat을 이용한 방식으로 구현\n",
    "input_tensor = layers.Input(shape=(sr, 1))\n",
    "\n",
    "x = layers.Conv1D(32, 9, padding='same', activation='relu')(input_tensor)\n",
    "x = layers.Conv1D(32, 9, padding='same', activation='relu')(x)\n",
    "skip_1 = layers.MaxPool1D()(x)\n",
    "\n",
    "x = layers.Conv1D(64, 9, padding='same', activation='relu')(skip_1)\n",
    "x = layers.Conv1D(64, 9, padding='same', activation='relu')(x)\n",
    "x = tf.concat([x, skip_1], -1)\n",
    "skip_2 = layers.MaxPool1D()(x)\n",
    "\n",
    "x = layers.Conv1D(128, 9, padding='same', activation='relu')(skip_2)\n",
    "x = layers.Conv1D(128, 9, padding='same', activation='relu')(x)\n",
    "x = layers.Conv1D(128, 9, padding='same', activation='relu')(x)\n",
    "x = tf.concat([x, skip_2], -1)\n",
    "skip_3 = layers.MaxPool1D()(x)\n",
    "\n",
    "x = layers.Conv1D(256, 9, padding='same', activation='relu')(skip_3)\n",
    "x = layers.Conv1D(256, 9, padding='same', activation='relu')(x)\n",
    "x = layers.Conv1D(256, 9, padding='same', activation='relu')(x)\n",
    "x = tf.concat([x, skip_3], -1)\n",
    "x = layers.MaxPool1D()(x)\n",
    "x = layers.Dropout(0.3)(x)\n",
    "\n",
    "x = layers.Flatten()(x)\n",
    "x = layers.Dense(256)(x)\n",
    "x = layers.BatchNormalization()(x)\n",
    "x = layers.Activation('relu')(x)\n",
    "\n",
    "output_tensor = layers.Dense(12)(x)\n",
    "\n",
    "model_wav_skip = tf.keras.Model(input_tensor, output_tensor)\n",
    "\n",
    "model_wav_skip.summary()"
   ]
  },
  {
   "cell_type": "code",
   "execution_count": null,
   "metadata": {},
   "outputs": [],
   "source": [
    "optimizer=tf.keras.optimizers.Adam(1e-4)\n",
    "model_wav_skip.compile(loss=tf.keras.losses.CategoricalCrossentropy(from_logits=True),\n",
    "                       optimizer=optimizer,\n",
    "                       metrics=['accuracy'])\n",
    "print(\"✅\")"
   ]
  },
  {
   "cell_type": "code",
   "execution_count": null,
   "metadata": {},
   "outputs": [],
   "source": [
    "# the save point\n",
    "checkpoint_dir = os.getenv('HOME')+'/aiffel/speech_recognition/models/wav_skip'\n",
    "cp_callback = tf.keras.callbacks.ModelCheckpoint(checkpoint_dir,\n",
    "                                                 save_weights_only=True,\n",
    "                                                 monitor='val_loss',\n",
    "                                                 mode='auto',\n",
    "                                                 save_best_only=True,\n",
    "                                                 verbose=1)\n",
    "print(\"✅\")"
   ]
  },
  {
   "cell_type": "code",
   "execution_count": null,
   "metadata": {},
   "outputs": [],
   "source": [
    "# 30분 내외 소요\n",
    "history_wav_skip = model_wav_skip.fit(train_dataset, epochs=max_epochs,\n",
    "                                      steps_per_epoch=len(train_wav) // batch_size,\n",
    "                                      validation_data=test_dataset,\n",
    "                                      validation_steps=len(test_wav) // batch_size,\n",
    "                                      callbacks=[cp_callback]\n",
    "                                     )\n",
    "print(\"✅\")"
   ]
  },
  {
   "cell_type": "code",
   "execution_count": null,
   "metadata": {},
   "outputs": [],
   "source": [
    "import matplotlib.pyplot as plt\n",
    "\n",
    "acc = history_wav_skip.history['accuracy']\n",
    "val_acc = history_wav_skip.history['val_accuracy']\n",
    "\n",
    "loss=history_wav_skip.history['loss']\n",
    "val_loss=history_wav_skip.history['val_loss']\n",
    "\n",
    "epochs_range = range(len(acc))\n",
    "\n",
    "plt.figure(figsize=(8, 8))\n",
    "plt.subplot(1, 2, 1)\n",
    "plt.plot(epochs_range, acc, label='Training Accuracy')\n",
    "plt.plot(epochs_range, val_acc, label='Validation Accuracy')\n",
    "plt.legend(loc='lower right')\n",
    "plt.title('Training and Validation Accuracy')\n",
    "\n",
    "plt.subplot(1, 2, 2)\n",
    "plt.plot(epochs_range, loss, label='Training Loss')\n",
    "plt.plot(epochs_range, val_loss, label='Validation Loss')\n",
    "plt.legend(loc='upper right')\n",
    "plt.title('Training and Validation Loss')\n",
    "plt.show()\n",
    "print(\"✅\")"
   ]
  },
  {
   "cell_type": "code",
   "execution_count": null,
   "metadata": {},
   "outputs": [],
   "source": [
    "# Evaluation\n",
    "\n",
    "model_wav_skip.load_weights(checkpoint_dir)\n",
    "results = model_wav_skip.evaluate(test_dataset)\n",
    "\n",
    "# loss\n",
    "print(\"loss value: {:.3f}\".format(results[0]))\n",
    "\n",
    "# accuracy\n",
    "print(\"accuracy value: {:.4f}%\".format(results[1]*100))\n",
    "print(\"✅\")"
   ]
  },
  {
   "cell_type": "code",
   "execution_count": null,
   "metadata": {},
   "outputs": [],
   "source": [
    "# Test\n",
    "\n",
    "inv_label_value = {v: k for k, v in label_value.items()}\n",
    "batch_index = np.random.choice(len(test_wav), size=1, replace=False)\n",
    "\n",
    "batch_xs = test_wav[batch_index]\n",
    "batch_ys = test_label[batch_index]\n",
    "y_pred_ = model_wav_skip(batch_xs, training=False)\n",
    "\n",
    "print(\"label : \", str(inv_label_value[batch_ys[0]]))\n",
    "\n",
    "ipd.Audio(batch_xs.reshape(8000,), rate=8000)"
   ]
  },
  {
   "cell_type": "code",
   "execution_count": null,
   "metadata": {},
   "outputs": [],
   "source": [
    "if np.argmax(y_pred_) == batch_ys[0]:\n",
    "    print(\"y_pred: \" + str(inv_label_value[np.argmax(y_pred_)]) + '(Correct!)')\n",
    "else:\n",
    "    print(\"y_pred: \" + str(inv_label_value[np.argmax(y_pred_)]) + '(Incorrect!)')\n",
    "print(\"✅\")"
   ]
  },
  {
   "cell_type": "code",
   "execution_count": null,
   "metadata": {},
   "outputs": [],
   "source": [
    "## Spectrogram\n",
    "\n",
    "# waveform은 실제로는 많은 음원의 파형이 합성된 복합파\n",
    "# 다양한 파형들을 그 주파수 대역별로 나누어 별도로 해석해야 한다.\n",
    "\n",
    "# 푸리에 변환(Fourier transform)\n",
    "# 임의의 입력 신호를 다양한 주파수를 갖는 주기함수(복수 지수함수)들이 합으로 분해하여 표현\n",
    "\n",
    "# 푸리에 변환이 끝나면 복소수 얻음. \n",
    "# 복소수의 절대값은 Spectrum magnitude(주파수의 강도) \n",
    "# 복소수가 가지는 phase는 phase spectrum(주파수의 위상)\n",
    "\n",
    "# STFT(Short Time Fourier Transform)\n",
    "# FFT는 시간의 흐름에 따라 신호의 주파수 변했을 때, 어느 시간대에 주파수가 변하는지 모름\n",
    "# STFT는 이를 극복하기 위해서 시간의 길이를 나눠서 푸리에 변환\n",
    "# STFT의 결과: 시간의 흐름에 따른 frequency 영역별 Amplitude 반환\n",
    "\n",
    "# Spectrogram: wav 데이터를 해석하는 방법 중 하나\n",
    "# 일정 시간 동안 wav 데이터 안의 다양한 주파수들이 얼마나 포함되어있는지 보여줌\n",
    "# STFT는 Spectrogram을 그리는 방법\n",
    "\n",
    "# X축은 시간, Y축은 주파수\n",
    "# 음파 강도에 따라 밝은색으로 표현\n",
    "\n",
    "# FFT 관련 라이브러리 librosa 설치\n",
    "# $ pip install librosa\n",
    "\n",
    "import librosa\n",
    "\n",
    "def wav2spec(wav, fft_size=258):    # spectrogram shape을 맞추기 위해 size 변형\n",
    "    D = np.abs(librosa.stft(wav, n_fft=fft_size))\n",
    "    return D\n",
    "print(\"✅\")\n",
    "\n",
    "# 위에서 뽑았던 sample data\n",
    "spec = wav2spec(data)\n",
    "print(\"Waveform shape : \", data.shape)\n",
    "print(\"Spectrogram shape : \", spec.shape)\n",
    "\n",
    "import librosa.display\n",
    "\n",
    "librosa.display.specshow(librosa.amplitude_to_db(spec, ref=np.max), x_axis='time')\n",
    "plt.title('Power spectrogram')\n",
    "plt.colorbar(format='%+2.0f dB')\n",
    "plt.xticks(range(0, 1))\n",
    "plt.tight_layout()\n",
    "plt.show()"
   ]
  }
 ],
 "metadata": {
  "kernelspec": {
   "display_name": "Python 3",
   "language": "python",
   "name": "python3"
  },
  "language_info": {
   "codemirror_mode": {
    "name": "ipython",
    "version": 3
   },
   "file_extension": ".py",
   "mimetype": "text/x-python",
   "name": "python",
   "nbconvert_exporter": "python",
   "pygments_lexer": "ipython3",
   "version": "3.8.5"
  },
  "vp": {
   "base_numbering": 1,
   "nav_menu": {},
   "number_sections": true,
   "sideBar": true,
   "title_cell": "VisualPython",
   "title_sidebar": "VisualPython",
   "vpPosition": {
    "height": "calc(100% - 180px)",
    "right": "10px",
    "top": "110px",
    "width": "50%"
   },
   "vp_cell": false,
   "vp_section_display": true,
   "vp_window_display": false
  }
 },
 "nbformat": 4,
 "nbformat_minor": 4
}
